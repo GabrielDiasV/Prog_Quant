{
 "cells": [
  {
   "cell_type": "code",
   "execution_count": 111,
   "metadata": {},
   "outputs": [],
   "source": [
    "import pandas as pd\n",
    "import numpy as np\n",
    "import cmath\n",
    "import time\n",
    "from sympy import symbols, Eq, solve\n",
    "import plotly.express as px\n",
    "from plotly.subplots import make_subplots\n",
    "import plotly.graph_objects as go\n",
    "import math as m"
   ]
  },
  {
   "cell_type": "markdown",
   "metadata": {},
   "source": [
    "# Questions"
   ]
  },
  {
   "cell_type": "markdown",
   "metadata": {},
   "source": [
    "### Q.1 "
   ]
  },
  {
   "cell_type": "code",
   "execution_count": 12,
   "metadata": {},
   "outputs": [
    {
     "name": "stdout",
     "output_type": "stream",
     "text": [
      "[-I, I]\n"
     ]
    }
   ],
   "source": [
    "# x4 + 2x2 + 1 = 0 = y2 + 2y + 1; y = x2\n",
    "# delta(y) = 0\n",
    "# y = -2/2 = -1 = x2 => x = +-sqrt(-1)\n",
    "def calc_baskara():\n",
    "    x = symbols('x')\n",
    "\n",
    "    return solve(Eq(x**4 + 2*x**2 + 1, 0), x)\n",
    "\n",
    "\n",
    "# Test\n",
    "print(calc_baskara())"
   ]
  },
  {
   "cell_type": "markdown",
   "metadata": {},
   "source": [
    "### Q.2"
   ]
  },
  {
   "cell_type": "code",
   "execution_count": 17,
   "metadata": {},
   "outputs": [
    {
     "name": "stdout",
     "output_type": "stream",
     "text": [
      "-1j\n"
     ]
    }
   ],
   "source": [
    "def calc_complex_power(power_factor:int):\n",
    "\n",
    "    if (power_factor == 0):\n",
    "        complex_number = complex(1, 0)\n",
    "    elif((power_factor % 4) == 0):\n",
    "        complex_number = complex(1, 0)\n",
    "    elif((power_factor % 3) == 0):\n",
    "        complex_number = complex(0, -1)\n",
    "    elif((power_factor % 2) == 0):\n",
    "        complex_number = complex(-1, 0)\n",
    "    else:\n",
    "        complex_number = complex(0, 1)\n",
    "\n",
    "    return complex_number\n",
    "\n",
    "# Test\n",
    "print(calc_complex_power(15))"
   ]
  },
  {
   "cell_type": "markdown",
   "metadata": {},
   "source": [
    "### Q.3"
   ]
  },
  {
   "cell_type": "code",
   "execution_count": 16,
   "metadata": {},
   "outputs": [
    {
     "name": "stdout",
     "output_type": "stream",
     "text": [
      "[(4+3j), (7+11j)]\n"
     ]
    }
   ],
   "source": [
    "def calc_complex_product(first_numb:complex, second_numb:complex):\n",
    "    return first_numb * second_numb\n",
    "\n",
    "\n",
    "def calc_complex_sum(first_numb:complex, second_numb:complex):\n",
    "    return first_numb + second_numb\n",
    "\n",
    "\n",
    "s_output = calc_complex_sum(complex(3, -1), complex(1, 4))\n",
    "\n",
    "p_output = calc_complex_product(complex(3, -1), complex(1, 4))\n",
    "\n",
    "print([s_output, p_output])"
   ]
  },
  {
   "cell_type": "markdown",
   "metadata": {},
   "source": [
    "### Q.4"
   ]
  },
  {
   "cell_type": "code",
   "execution_count": 15,
   "metadata": {},
   "outputs": [
    {
     "data": {
      "text/plain": [
       "True"
      ]
     },
     "execution_count": 15,
     "metadata": {},
     "output_type": "execute_result"
    }
   ],
   "source": [
    "def verify_solution(p_solution:complex, polinomial_coef:list):\n",
    "    polinomial_sum = 0\n",
    "    for index, val in enumerate(polinomial_coef):\n",
    "        polinomial_sum += val*(p_solution ** index)\n",
    "\n",
    "    return True if (polinomial_sum == 0) else False\n",
    " \n",
    "verify_solution(complex(-1, 1), [2, 2, 1])"
   ]
  },
  {
   "cell_type": "markdown",
   "metadata": {},
   "source": [
    "\n",
    "### Q.5"
   ]
  },
  {
   "cell_type": "code",
   "execution_count": 2,
   "metadata": {},
   "outputs": [
    {
     "name": "stdout",
     "output_type": "stream",
     "text": [
      "[{'is_sum_commut': True, 'is_prod_commut': True}, {'is_sum_associative': True, 'is_prod_associative': True}, {'is_distributive': True}]\n"
     ]
    }
   ],
   "source": [
    "def commut_test(numb_1:complex, numb_2:complex):\n",
    "    answer = {'is_sum_commut': False, \n",
    "              'is_prod_commut': False\n",
    "              }\n",
    "    \n",
    "    if ((numb_1 + numb_2) == (numb_2 + numb_1)):\n",
    "        answer['is_sum_commut'] = True\n",
    "\n",
    "    if ((numb_1 * numb_2) == (numb_2 * numb_1)):\n",
    "        answer['is_prod_commut'] = True\n",
    "    \n",
    "    return answer\n",
    "\n",
    "\n",
    "def associative_test(numb_1:complex, numb_2:complex, numb_3:complex):\n",
    "    answer = {'is_sum_associative': False, \n",
    "              'is_prod_associative': False\n",
    "              }\n",
    "    \n",
    "    if (((numb_1 + numb_2) + numb_3) == (numb_1 + (numb_2 + numb_3))):\n",
    "        answer['is_sum_associative'] = True\n",
    "\n",
    "    if (((numb_1 * numb_2)*numb_3) == (numb_1*(numb_2*numb_3))):\n",
    "        answer['is_prod_associative'] = True\n",
    "\n",
    "    return answer\n",
    "\n",
    "\n",
    "def distributive_test(numb_1:complex, numb_2:complex, numb_3:complex):\n",
    "    answer = {'is_distributive': False}\n",
    "\n",
    "    if((numb_1 * (numb_2 + numb_3))) == (numb_1 * numb_2 + numb_1 * numb_3):\n",
    "        answer['is_distributive'] = True\n",
    "\n",
    "    return answer\n",
    "\n",
    "\n",
    "print([\n",
    "    commut_test(complex(1, 4), complex(1, 2)), \n",
    "    associative_test(complex(1, 4), complex(1, 2), complex(3, 4)),\n",
    "    distributive_test(complex(1, 4), complex(1, 2), complex(3, 4))\n",
    "    ])"
   ]
  },
  {
   "cell_type": "markdown",
   "metadata": {},
   "source": [
    "### Q.6"
   ]
  },
  {
   "cell_type": "code",
   "execution_count": 21,
   "metadata": {},
   "outputs": [
    {
     "name": "stdout",
     "output_type": "stream",
     "text": [
      "[True, True]\n"
     ]
    }
   ],
   "source": [
    "def triang_inneq(numb_1:complex, numb_2:complex):\n",
    "    return ((abs(numb_1 + numb_2)) <= (abs(numb_1) + abs(numb_2)))\n",
    "\n",
    "\n",
    "def prod_equal(numb_1: complex, numb_2:complex):\n",
    "    return((abs(numb_2 * numb_1)) == (abs(numb_1) * abs(numb_2)))\n",
    "\n",
    "\n",
    "# Test\n",
    "print([prod_equal(complex(1,2), complex(1, 1)), prod_equal(complex(1,2), complex(1, 1))])\n"
   ]
  },
  {
   "cell_type": "markdown",
   "metadata": {},
   "source": [
    "### Q.7"
   ]
  },
  {
   "cell_type": "code",
   "execution_count": 7,
   "metadata": {},
   "outputs": [
    {
     "name": "stdout",
     "output_type": "stream",
     "text": [
      "[True, True]\n"
     ]
    }
   ],
   "source": [
    "def conjug_sum(numb_1:complex, numb_2:complex):\n",
    "    return ((numb_1.conjugate() + numb_2.conjugate()) == ((numb_2 + numb_1).conjugate()))\n",
    "\n",
    "\n",
    "def conjug_prod(numb_1:complex, numb_2:complex):\n",
    "    return ((numb_1.conjugate() * numb_2.conjugate()) == ((numb_1 * numb_2).conjugate()))\n",
    "\n",
    "# Test\n",
    "print([conjug_sum(complex(1, 2), complex(3, 4)), conjug_prod(complex(1, 2), complex(3, 4))])"
   ]
  },
  {
   "cell_type": "markdown",
   "metadata": {},
   "source": [
    "### Q.8"
   ]
  },
  {
   "cell_type": "code",
   "execution_count": 13,
   "metadata": {},
   "outputs": [
    {
     "name": "stdout",
     "output_type": "stream",
     "text": [
      "[(3+0j), (1-2j)]\n"
     ]
    }
   ],
   "source": [
    "print([complex(2, -1) + complex(1, 1), complex(2, -1) + complex(-1, -1)])"
   ]
  },
  {
   "cell_type": "markdown",
   "metadata": {},
   "source": [
    "### Q.9"
   ]
  },
  {
   "cell_type": "code",
   "execution_count": 12,
   "metadata": {},
   "outputs": [
    {
     "name": "stdout",
     "output_type": "stream",
     "text": [
      "[(3.0, 0.0), (2.23606797749979, -1.1071487177940904)]\n"
     ]
    }
   ],
   "source": [
    "# output: (modulus, phase)\n",
    "\n",
    "def calc_geo(numb_1:complex, numb_2:complex):\n",
    "    return cmath.polar(numb_1 + numb_2)\n",
    "\n",
    "\n",
    "print([calc_geo(complex(2, -1), complex(1, 1)), calc_geo(complex(2, -1), complex(-1, -1))])"
   ]
  },
  {
   "cell_type": "markdown",
   "metadata": {},
   "source": [
    "### Q.10"
   ]
  },
  {
   "cell_type": "code",
   "execution_count": 21,
   "metadata": {},
   "outputs": [
    {
     "data": {
      "text/plain": [
       "(2.23606797749979, 1.1071487177940904)"
      ]
     },
     "execution_count": 21,
     "metadata": {},
     "output_type": "execute_result"
    }
   ],
   "source": [
    "def polar_conv(numb_1:complex):\n",
    "    rho = np.sqrt((numb_1.real**2 + numb_1.imag**2))\n",
    "\n",
    "    if (numb_1.real == 0):\n",
    "        theta = np.pi * numb_1.imag / (2 * abs(numb_1.imag))\n",
    "    else:\n",
    "        theta = np.arctan(numb_1.imag / numb_1.real)\n",
    "\n",
    "    return (rho, theta)\n",
    "\n",
    "# Test\n",
    "polar_conv(complex(1, 2))"
   ]
  },
  {
   "cell_type": "markdown",
   "metadata": {},
   "source": [
    "### Q.11"
   ]
  },
  {
   "cell_type": "code",
   "execution_count": 202,
   "metadata": {},
   "outputs": [
    {
     "data": {
      "application/vnd.plotly.v1+json": {
       "config": {
        "plotlyServerURL": "https://plot.ly"
       },
       "data": [
        {
         "mode": "markers",
         "r": [
          2.23606797749979
         ],
         "theta": [
          1.1071487177940904
         ],
         "thetaunit": "radians",
         "type": "scatterpolargl"
        }
       ],
       "frames": [
        {
         "data": [
          {
           "mode": "markers",
           "r": [
            2.23606797749979,
            2.23606797749979,
            2.23606797749979,
            2.23606797749979,
            2.23606797749979,
            2.23606797749979,
            2.23606797749979,
            2.23606797749979,
            2.23606797749979,
            2.23606797749979,
            2.23606797749979,
            2.23606797749979,
            2.23606797749979,
            2.23606797749979,
            2.23606797749979,
            2.23606797749979,
            2.23606797749979,
            2.23606797749979,
            2.23606797749979,
            2.23606797749979,
            2.23606797749979,
            2.23606797749979,
            2.23606797749979,
            2.23606797749979,
            2.23606797749979,
            2.23606797749979,
            2.23606797749979,
            2.23606797749979,
            2.23606797749979,
            2.23606797749979,
            2.23606797749979,
            2.23606797749979,
            2.23606797749979,
            2.23606797749979,
            2.23606797749979,
            2.23606797749979,
            2.23606797749979,
            2.23606797749979,
            2.23606797749979,
            2.23606797749979,
            2.23606797749979,
            2.23606797749979,
            2.23606797749979,
            2.23606797749979,
            2.23606797749979,
            2.23606797749979,
            2.23606797749979,
            2.23606797749979,
            2.23606797749979,
            2.23606797749979,
            2.23606797749979,
            2.23606797749979,
            2.23606797749979,
            2.23606797749979,
            2.23606797749979,
            2.23606797749979,
            2.23606797749979,
            2.23606797749979,
            2.23606797749979,
            2.23606797749979,
            2.23606797749979,
            2.23606797749979,
            2.23606797749979,
            2.23606797749979,
            2.23606797749979,
            2.23606797749979,
            2.23606797749979,
            2.23606797749979,
            2.23606797749979,
            2.23606797749979,
            2.23606797749979,
            2.23606797749979,
            2.23606797749979,
            2.23606797749979,
            2.23606797749979,
            2.23606797749979,
            2.23606797749979,
            2.23606797749979,
            2.23606797749979,
            2.23606797749979,
            2.23606797749979,
            2.23606797749979,
            2.23606797749979,
            2.23606797749979,
            2.23606797749979,
            2.23606797749979,
            2.23606797749979,
            2.23606797749979,
            2.23606797749979,
            2.23606797749979,
            2.23606797749979,
            2.23606797749979,
            2.23606797749979,
            2.23606797749979,
            2.23606797749979,
            2.23606797749979,
            2.23606797749979,
            2.23606797749979,
            2.23606797749979,
            2.23606797749979
           ],
           "theta": [
            1.1071487177940904,
            1.1071487177940904,
            1.1071487177940904,
            1.1071487177940904,
            1.1071487177940904,
            1.1071487177940904,
            1.1071487177940904,
            1.1071487177940904,
            1.1071487177940904,
            1.1071487177940904,
            1.1071487177940904,
            1.1071487177940904,
            1.1071487177940904,
            1.1071487177940904,
            1.1071487177940904,
            1.1071487177940904,
            1.1071487177940904,
            1.1071487177940904,
            1.1071487177940904,
            1.1071487177940904,
            1.1071487177940904,
            1.1071487177940904,
            1.1071487177940904,
            1.1071487177940904,
            1.1071487177940904,
            1.1071487177940904,
            1.1071487177940904,
            1.1071487177940904,
            1.1071487177940904,
            1.1071487177940904,
            1.1071487177940904,
            1.1071487177940904,
            1.1071487177940904,
            1.1071487177940904,
            1.1071487177940904,
            1.1071487177940904,
            1.1071487177940904,
            1.1071487177940904,
            1.1071487177940904,
            1.1071487177940904,
            1.1071487177940904,
            1.1071487177940904,
            1.1071487177940904,
            1.1071487177940904,
            1.1071487177940904,
            1.1071487177940904,
            1.1071487177940904,
            1.1071487177940904,
            1.1071487177940904,
            1.1071487177940904,
            1.1071487177940904,
            1.1071487177940904,
            1.1071487177940904,
            1.1071487177940904,
            1.1071487177940904,
            1.1071487177940904,
            1.1071487177940904,
            1.1071487177940904,
            1.1071487177940904,
            1.1071487177940904,
            1.1071487177940904,
            1.1071487177940904,
            1.1071487177940904,
            1.1071487177940904,
            1.1071487177940904,
            1.1071487177940904,
            1.1071487177940904,
            1.1071487177940904,
            1.1071487177940904,
            1.1071487177940904,
            1.1071487177940904,
            1.1071487177940904,
            1.1071487177940904,
            1.1071487177940904,
            1.1071487177940904,
            1.1071487177940904,
            1.1071487177940904,
            1.1071487177940904,
            1.1071487177940904,
            1.1071487177940904,
            1.1071487177940904,
            1.1071487177940904,
            1.1071487177940904,
            1.1071487177940904,
            1.1071487177940904,
            1.1071487177940904,
            1.1071487177940904,
            1.1071487177940904,
            1.1071487177940904,
            1.1071487177940904,
            1.1071487177940904,
            1.1071487177940904,
            1.1071487177940904,
            1.1071487177940904,
            1.1071487177940904,
            1.1071487177940904,
            1.1071487177940904,
            1.1071487177940904,
            1.1071487177940904,
            1.1071487177940904
           ],
           "thetaunit": "radians",
           "type": "scatterpolargl"
          }
         ],
         "layout": {
          "title": {
           "text": "Z(0) * Re(Z(0))"
          }
         }
        },
        {
         "data": [
          {
           "mode": "markers",
           "r": [
            2.23606797749979,
            2.2586545227270602,
            2.281241067954331,
            2.3038276131816016,
            2.3264141584088724,
            2.349000703636143,
            2.3715872488634133,
            2.394173794090684,
            2.4167603393179546,
            2.439346884545225,
            2.461933429772496,
            2.4845199749997664,
            2.507106520227037,
            2.5296930654543077,
            2.552279610681578,
            2.574866155908849,
            2.5974527011361195,
            2.62003924636339,
            2.642625791590661,
            2.6652123368179312,
            2.687798882045202,
            2.7103854272724726,
            2.732971972499743,
            2.755558517727014,
            2.7781450629542843,
            2.8007316081815548,
            2.8233181534088256,
            2.845904698636096,
            2.8684912438633665,
            2.8910777890906374,
            2.913664334317908,
            2.9362508795451783,
            2.958837424772449,
            2.98142396999972,
            3.0040105152269905,
            3.026597060454261,
            3.049183605681532,
            3.0717701509088022,
            3.0943566961360727,
            3.1169432413633436,
            3.139529786590614,
            3.1621163318178844,
            3.1847028770451553,
            3.2072894222724257,
            3.229875967499696,
            3.252462512726967,
            3.2750490579542375,
            3.297635603181508,
            3.320222148408779,
            3.3428086936360497,
            3.36539523886332,
            3.3879817840905906,
            3.4105683293178615,
            3.433154874545132,
            3.4557414197724023,
            3.4783279649996732,
            3.5009145102269437,
            3.523501055454214,
            3.546087600681485,
            3.5686741459087554,
            3.591260691136026,
            3.6138472363632967,
            3.636433781590567,
            3.6590203268178376,
            3.6816068720451085,
            3.7041934172723794,
            3.72677996249965,
            3.7493665077269203,
            3.771953052954191,
            3.7945395981814616,
            3.817126143408732,
            3.839712688636003,
            3.8622992338632733,
            3.884885779090544,
            3.9074723243178147,
            3.930058869545085,
            3.9526454147723555,
            3.9752319599996264,
            3.997818505226897,
            4.020405050454167,
            4.042991595681438,
            4.065578140908709,
            4.088164686135979,
            4.11075123136325,
            4.133337776590521,
            4.155924321817791,
            4.178510867045062,
            4.201097412272333,
            4.223683957499603,
            4.2462705027268735,
            4.268857047954144,
            4.291443593181414,
            4.314030138408685,
            4.336616683635956,
            4.359203228863226,
            4.381789774090498,
            4.404376319317768,
            4.426962864545038,
            4.44954940977231,
            4.47213595499958
           ],
           "theta": [
            1.1071487177940904,
            1.1230153473576752,
            1.1388819769212601,
            1.154748606484845,
            1.1706152360484297,
            1.1864818656120144,
            1.2023484951755994,
            1.2182151247391841,
            1.234081754302769,
            1.2499483838663537,
            1.2658150134299386,
            1.2816816429935234,
            1.2975482725571081,
            1.3134149021206931,
            1.3292815316842779,
            1.3451481612478626,
            1.3610147908114474,
            1.3768814203750321,
            1.3927480499386171,
            1.4086146795022019,
            1.4244813090657866,
            1.4403479386293716,
            1.4562145681929564,
            1.4720811977565411,
            1.4879478273201259,
            1.5038144568837108,
            1.5196810864472956,
            1.5355477160108804,
            1.5514143455744653,
            1.56728097513805,
            1.5831476047016348,
            1.5990142342652196,
            1.6148808638288044,
            1.6307474933923893,
            1.646614122955974,
            1.662480752519559,
            1.6783473820831438,
            1.6942140116467286,
            1.7100806412103133,
            1.725947270773898,
            1.7418139003374828,
            1.7576805299010678,
            1.7735471594646526,
            1.7894137890282376,
            1.8052804185918223,
            1.821147048155407,
            1.8370136777189918,
            1.8528803072825766,
            1.8687469368461616,
            1.8846135664097463,
            1.9004801959733313,
            1.916346825536916,
            1.9322134551005008,
            1.9480800846640856,
            1.9639467142276703,
            1.979813343791255,
            1.99567997335484,
            2.0115466029184246,
            2.0274132324820098,
            2.0432798620455945,
            2.0591464916091793,
            2.075013121172764,
            2.090879750736349,
            2.1067463802999336,
            2.1226130098635183,
            2.1384796394271035,
            2.1543462689906883,
            2.170212898554273,
            2.1860795281178578,
            2.2019461576814425,
            2.2178127872450277,
            2.233679416808612,
            2.2495460463721972,
            2.2654126759357816,
            2.2812793054993667,
            2.2971459350629515,
            2.3130125646265363,
            2.328879194190121,
            2.3447458237537058,
            2.360612453317291,
            2.3764790828808753,
            2.3923457124444605,
            2.4082123420080452,
            2.42407897157163,
            2.4399456011352147,
            2.4558122306987995,
            2.4716788602623847,
            2.487545489825969,
            2.503412119389554,
            2.519278748953139,
            2.5351453785167237,
            2.5510120080803085,
            2.5668786376438932,
            2.5827452672074784,
            2.5986118967710627,
            2.614478526334648,
            2.6303451558982327,
            2.6462117854618175,
            2.662078415025402,
            2.677945044588987
           ],
           "thetaunit": "radians",
           "type": "scatterpolargl"
          }
         ],
         "layout": {
          "title": {
           "text": "Z(0) * Im(Z(0))"
          }
         }
        }
       ],
       "layout": {
        "template": {
         "data": {
          "bar": [
           {
            "error_x": {
             "color": "#2a3f5f"
            },
            "error_y": {
             "color": "#2a3f5f"
            },
            "marker": {
             "line": {
              "color": "#E5ECF6",
              "width": 0.5
             },
             "pattern": {
              "fillmode": "overlay",
              "size": 10,
              "solidity": 0.2
             }
            },
            "type": "bar"
           }
          ],
          "barpolar": [
           {
            "marker": {
             "line": {
              "color": "#E5ECF6",
              "width": 0.5
             },
             "pattern": {
              "fillmode": "overlay",
              "size": 10,
              "solidity": 0.2
             }
            },
            "type": "barpolar"
           }
          ],
          "carpet": [
           {
            "aaxis": {
             "endlinecolor": "#2a3f5f",
             "gridcolor": "white",
             "linecolor": "white",
             "minorgridcolor": "white",
             "startlinecolor": "#2a3f5f"
            },
            "baxis": {
             "endlinecolor": "#2a3f5f",
             "gridcolor": "white",
             "linecolor": "white",
             "minorgridcolor": "white",
             "startlinecolor": "#2a3f5f"
            },
            "type": "carpet"
           }
          ],
          "choropleth": [
           {
            "colorbar": {
             "outlinewidth": 0,
             "ticks": ""
            },
            "type": "choropleth"
           }
          ],
          "contour": [
           {
            "colorbar": {
             "outlinewidth": 0,
             "ticks": ""
            },
            "colorscale": [
             [
              0,
              "#0d0887"
             ],
             [
              0.1111111111111111,
              "#46039f"
             ],
             [
              0.2222222222222222,
              "#7201a8"
             ],
             [
              0.3333333333333333,
              "#9c179e"
             ],
             [
              0.4444444444444444,
              "#bd3786"
             ],
             [
              0.5555555555555556,
              "#d8576b"
             ],
             [
              0.6666666666666666,
              "#ed7953"
             ],
             [
              0.7777777777777778,
              "#fb9f3a"
             ],
             [
              0.8888888888888888,
              "#fdca26"
             ],
             [
              1,
              "#f0f921"
             ]
            ],
            "type": "contour"
           }
          ],
          "contourcarpet": [
           {
            "colorbar": {
             "outlinewidth": 0,
             "ticks": ""
            },
            "type": "contourcarpet"
           }
          ],
          "heatmap": [
           {
            "colorbar": {
             "outlinewidth": 0,
             "ticks": ""
            },
            "colorscale": [
             [
              0,
              "#0d0887"
             ],
             [
              0.1111111111111111,
              "#46039f"
             ],
             [
              0.2222222222222222,
              "#7201a8"
             ],
             [
              0.3333333333333333,
              "#9c179e"
             ],
             [
              0.4444444444444444,
              "#bd3786"
             ],
             [
              0.5555555555555556,
              "#d8576b"
             ],
             [
              0.6666666666666666,
              "#ed7953"
             ],
             [
              0.7777777777777778,
              "#fb9f3a"
             ],
             [
              0.8888888888888888,
              "#fdca26"
             ],
             [
              1,
              "#f0f921"
             ]
            ],
            "type": "heatmap"
           }
          ],
          "heatmapgl": [
           {
            "colorbar": {
             "outlinewidth": 0,
             "ticks": ""
            },
            "colorscale": [
             [
              0,
              "#0d0887"
             ],
             [
              0.1111111111111111,
              "#46039f"
             ],
             [
              0.2222222222222222,
              "#7201a8"
             ],
             [
              0.3333333333333333,
              "#9c179e"
             ],
             [
              0.4444444444444444,
              "#bd3786"
             ],
             [
              0.5555555555555556,
              "#d8576b"
             ],
             [
              0.6666666666666666,
              "#ed7953"
             ],
             [
              0.7777777777777778,
              "#fb9f3a"
             ],
             [
              0.8888888888888888,
              "#fdca26"
             ],
             [
              1,
              "#f0f921"
             ]
            ],
            "type": "heatmapgl"
           }
          ],
          "histogram": [
           {
            "marker": {
             "pattern": {
              "fillmode": "overlay",
              "size": 10,
              "solidity": 0.2
             }
            },
            "type": "histogram"
           }
          ],
          "histogram2d": [
           {
            "colorbar": {
             "outlinewidth": 0,
             "ticks": ""
            },
            "colorscale": [
             [
              0,
              "#0d0887"
             ],
             [
              0.1111111111111111,
              "#46039f"
             ],
             [
              0.2222222222222222,
              "#7201a8"
             ],
             [
              0.3333333333333333,
              "#9c179e"
             ],
             [
              0.4444444444444444,
              "#bd3786"
             ],
             [
              0.5555555555555556,
              "#d8576b"
             ],
             [
              0.6666666666666666,
              "#ed7953"
             ],
             [
              0.7777777777777778,
              "#fb9f3a"
             ],
             [
              0.8888888888888888,
              "#fdca26"
             ],
             [
              1,
              "#f0f921"
             ]
            ],
            "type": "histogram2d"
           }
          ],
          "histogram2dcontour": [
           {
            "colorbar": {
             "outlinewidth": 0,
             "ticks": ""
            },
            "colorscale": [
             [
              0,
              "#0d0887"
             ],
             [
              0.1111111111111111,
              "#46039f"
             ],
             [
              0.2222222222222222,
              "#7201a8"
             ],
             [
              0.3333333333333333,
              "#9c179e"
             ],
             [
              0.4444444444444444,
              "#bd3786"
             ],
             [
              0.5555555555555556,
              "#d8576b"
             ],
             [
              0.6666666666666666,
              "#ed7953"
             ],
             [
              0.7777777777777778,
              "#fb9f3a"
             ],
             [
              0.8888888888888888,
              "#fdca26"
             ],
             [
              1,
              "#f0f921"
             ]
            ],
            "type": "histogram2dcontour"
           }
          ],
          "mesh3d": [
           {
            "colorbar": {
             "outlinewidth": 0,
             "ticks": ""
            },
            "type": "mesh3d"
           }
          ],
          "parcoords": [
           {
            "line": {
             "colorbar": {
              "outlinewidth": 0,
              "ticks": ""
             }
            },
            "type": "parcoords"
           }
          ],
          "pie": [
           {
            "automargin": true,
            "type": "pie"
           }
          ],
          "scatter": [
           {
            "fillpattern": {
             "fillmode": "overlay",
             "size": 10,
             "solidity": 0.2
            },
            "type": "scatter"
           }
          ],
          "scatter3d": [
           {
            "line": {
             "colorbar": {
              "outlinewidth": 0,
              "ticks": ""
             }
            },
            "marker": {
             "colorbar": {
              "outlinewidth": 0,
              "ticks": ""
             }
            },
            "type": "scatter3d"
           }
          ],
          "scattercarpet": [
           {
            "marker": {
             "colorbar": {
              "outlinewidth": 0,
              "ticks": ""
             }
            },
            "type": "scattercarpet"
           }
          ],
          "scattergeo": [
           {
            "marker": {
             "colorbar": {
              "outlinewidth": 0,
              "ticks": ""
             }
            },
            "type": "scattergeo"
           }
          ],
          "scattergl": [
           {
            "marker": {
             "colorbar": {
              "outlinewidth": 0,
              "ticks": ""
             }
            },
            "type": "scattergl"
           }
          ],
          "scattermapbox": [
           {
            "marker": {
             "colorbar": {
              "outlinewidth": 0,
              "ticks": ""
             }
            },
            "type": "scattermapbox"
           }
          ],
          "scatterpolar": [
           {
            "marker": {
             "colorbar": {
              "outlinewidth": 0,
              "ticks": ""
             }
            },
            "type": "scatterpolar"
           }
          ],
          "scatterpolargl": [
           {
            "marker": {
             "colorbar": {
              "outlinewidth": 0,
              "ticks": ""
             }
            },
            "type": "scatterpolargl"
           }
          ],
          "scatterternary": [
           {
            "marker": {
             "colorbar": {
              "outlinewidth": 0,
              "ticks": ""
             }
            },
            "type": "scatterternary"
           }
          ],
          "surface": [
           {
            "colorbar": {
             "outlinewidth": 0,
             "ticks": ""
            },
            "colorscale": [
             [
              0,
              "#0d0887"
             ],
             [
              0.1111111111111111,
              "#46039f"
             ],
             [
              0.2222222222222222,
              "#7201a8"
             ],
             [
              0.3333333333333333,
              "#9c179e"
             ],
             [
              0.4444444444444444,
              "#bd3786"
             ],
             [
              0.5555555555555556,
              "#d8576b"
             ],
             [
              0.6666666666666666,
              "#ed7953"
             ],
             [
              0.7777777777777778,
              "#fb9f3a"
             ],
             [
              0.8888888888888888,
              "#fdca26"
             ],
             [
              1,
              "#f0f921"
             ]
            ],
            "type": "surface"
           }
          ],
          "table": [
           {
            "cells": {
             "fill": {
              "color": "#EBF0F8"
             },
             "line": {
              "color": "white"
             }
            },
            "header": {
             "fill": {
              "color": "#C8D4E3"
             },
             "line": {
              "color": "white"
             }
            },
            "type": "table"
           }
          ]
         },
         "layout": {
          "annotationdefaults": {
           "arrowcolor": "#2a3f5f",
           "arrowhead": 0,
           "arrowwidth": 1
          },
          "autotypenumbers": "strict",
          "coloraxis": {
           "colorbar": {
            "outlinewidth": 0,
            "ticks": ""
           }
          },
          "colorscale": {
           "diverging": [
            [
             0,
             "#8e0152"
            ],
            [
             0.1,
             "#c51b7d"
            ],
            [
             0.2,
             "#de77ae"
            ],
            [
             0.3,
             "#f1b6da"
            ],
            [
             0.4,
             "#fde0ef"
            ],
            [
             0.5,
             "#f7f7f7"
            ],
            [
             0.6,
             "#e6f5d0"
            ],
            [
             0.7,
             "#b8e186"
            ],
            [
             0.8,
             "#7fbc41"
            ],
            [
             0.9,
             "#4d9221"
            ],
            [
             1,
             "#276419"
            ]
           ],
           "sequential": [
            [
             0,
             "#0d0887"
            ],
            [
             0.1111111111111111,
             "#46039f"
            ],
            [
             0.2222222222222222,
             "#7201a8"
            ],
            [
             0.3333333333333333,
             "#9c179e"
            ],
            [
             0.4444444444444444,
             "#bd3786"
            ],
            [
             0.5555555555555556,
             "#d8576b"
            ],
            [
             0.6666666666666666,
             "#ed7953"
            ],
            [
             0.7777777777777778,
             "#fb9f3a"
            ],
            [
             0.8888888888888888,
             "#fdca26"
            ],
            [
             1,
             "#f0f921"
            ]
           ],
           "sequentialminus": [
            [
             0,
             "#0d0887"
            ],
            [
             0.1111111111111111,
             "#46039f"
            ],
            [
             0.2222222222222222,
             "#7201a8"
            ],
            [
             0.3333333333333333,
             "#9c179e"
            ],
            [
             0.4444444444444444,
             "#bd3786"
            ],
            [
             0.5555555555555556,
             "#d8576b"
            ],
            [
             0.6666666666666666,
             "#ed7953"
            ],
            [
             0.7777777777777778,
             "#fb9f3a"
            ],
            [
             0.8888888888888888,
             "#fdca26"
            ],
            [
             1,
             "#f0f921"
            ]
           ]
          },
          "colorway": [
           "#636efa",
           "#EF553B",
           "#00cc96",
           "#ab63fa",
           "#FFA15A",
           "#19d3f3",
           "#FF6692",
           "#B6E880",
           "#FF97FF",
           "#FECB52"
          ],
          "font": {
           "color": "#2a3f5f"
          },
          "geo": {
           "bgcolor": "white",
           "lakecolor": "white",
           "landcolor": "#E5ECF6",
           "showlakes": true,
           "showland": true,
           "subunitcolor": "white"
          },
          "hoverlabel": {
           "align": "left"
          },
          "hovermode": "closest",
          "mapbox": {
           "style": "light"
          },
          "paper_bgcolor": "white",
          "plot_bgcolor": "#E5ECF6",
          "polar": {
           "angularaxis": {
            "gridcolor": "white",
            "linecolor": "white",
            "ticks": ""
           },
           "bgcolor": "#E5ECF6",
           "radialaxis": {
            "gridcolor": "white",
            "linecolor": "white",
            "ticks": ""
           }
          },
          "scene": {
           "xaxis": {
            "backgroundcolor": "#E5ECF6",
            "gridcolor": "white",
            "gridwidth": 2,
            "linecolor": "white",
            "showbackground": true,
            "ticks": "",
            "zerolinecolor": "white"
           },
           "yaxis": {
            "backgroundcolor": "#E5ECF6",
            "gridcolor": "white",
            "gridwidth": 2,
            "linecolor": "white",
            "showbackground": true,
            "ticks": "",
            "zerolinecolor": "white"
           },
           "zaxis": {
            "backgroundcolor": "#E5ECF6",
            "gridcolor": "white",
            "gridwidth": 2,
            "linecolor": "white",
            "showbackground": true,
            "ticks": "",
            "zerolinecolor": "white"
           }
          },
          "shapedefaults": {
           "line": {
            "color": "#2a3f5f"
           }
          },
          "ternary": {
           "aaxis": {
            "gridcolor": "white",
            "linecolor": "white",
            "ticks": ""
           },
           "baxis": {
            "gridcolor": "white",
            "linecolor": "white",
            "ticks": ""
           },
           "bgcolor": "#E5ECF6",
           "caxis": {
            "gridcolor": "white",
            "linecolor": "white",
            "ticks": ""
           }
          },
          "title": {
           "x": 0.05
          },
          "xaxis": {
           "automargin": true,
           "gridcolor": "white",
           "linecolor": "white",
           "ticks": "",
           "title": {
            "standoff": 15
           },
           "zerolinecolor": "white",
           "zerolinewidth": 2
          },
          "yaxis": {
           "automargin": true,
           "gridcolor": "white",
           "linecolor": "white",
           "ticks": "",
           "title": {
            "standoff": 15
           },
           "zerolinecolor": "white",
           "zerolinewidth": 2
          }
         }
        },
        "title": {
         "text": "Z(0)"
        },
        "updatemenus": [
         {
          "buttons": [
           {
            "args": [
             null
            ],
            "label": "Play",
            "method": "animate"
           }
          ],
          "type": "buttons"
         }
        ]
       }
      }
     },
     "metadata": {},
     "output_type": "display_data"
    }
   ],
   "source": [
    "def plot_complex(numb_1:complex):\n",
    "\n",
    "    fig = go.Figure(\n",
    "        data = go.Scatterpolargl(r=np.array(cmath.polar(numb_1)[0]), theta=np.array(cmath.polar(numb_1)[1]), mode='markers', thetaunit='radians'),\n",
    "        layout = go.Layout(\n",
    "            title=\"Z(0)\",\n",
    "            updatemenus=[dict(\n",
    "            type=\"buttons\",\n",
    "            buttons=[dict(label=\"Play\",\n",
    "                          method=\"animate\",\n",
    "                          args=[None])])],\n",
    "    ),\n",
    "        frames = [go.Frame(\n",
    "                    data=[\n",
    "                        go.Scatterpolargl(r=np.linspace(cmath.polar(numb_1)[0], cmath.polar(numb_1 * numb_1.real)[0], num=100, endpoint=True), \n",
    "                                    theta=np.linspace(cmath.polar(numb_1)[1], cmath.polar(numb_1 * numb_1.real)[1], num=100, endpoint=True), \n",
    "                                    mode='markers',\n",
    "                                    thetaunit='radians')\n",
    "                        ],\n",
    "                    layout = go.Layout(title_text=\"Z(0) * Re(Z(0))\")\n",
    "                    ),\n",
    "                go.Frame(\n",
    "                    data=[\n",
    "                        go.Scatterpolargl(r=np.linspace(cmath.polar(numb_1)[0], cmath.polar(numb_1 * numb_1.imag)[0], num=100, endpoint=True), \n",
    "                                    theta=np.linspace(cmath.polar(numb_1)[1], cmath.polar(numb_1 * complex(0, numb_1.imag))[1], num=100, endpoint=True), \n",
    "                                    mode='markers',\n",
    "                                    thetaunit='radians')\n",
    "                        ],\n",
    "                    layout = go.Layout(title_text=\"Z(0) * Im(Z(0))\"),\n",
    "                )\n",
    "        ]   \n",
    ")\n",
    "\n",
    "    fig.show()\n",
    "\n",
    "\n",
    "plot_complex(complex(1,2))"
   ]
  },
  {
   "cell_type": "markdown",
   "metadata": {},
   "source": [
    "### Q.12"
   ]
  },
  {
   "cell_type": "code",
   "execution_count": 207,
   "metadata": {},
   "outputs": [
    {
     "data": {
      "application/vnd.plotly.v1+json": {
       "config": {
        "plotlyServerURL": "https://plot.ly"
       },
       "data": [
        {
         "mode": "markers",
         "r": [
          2.23606797749979
         ],
         "theta": [
          0.4636476090008061
         ],
         "thetaunit": "radians",
         "type": "scatterpolargl"
        }
       ],
       "frames": [
        {
         "data": [
          {
           "mode": "markers",
           "r": [
            2.23606797749979
           ],
           "theta": [
            0.4636476090008061
           ],
           "thetaunit": "radians",
           "type": "scatterpolargl"
          }
         ],
         "layout": {
          "title": {
           "text": "Z^1"
          }
         }
        },
        {
         "data": [
          {
           "mode": "markers",
           "r": [
            2.23606797749979,
            5
           ],
           "theta": [
            0.4636476090008061,
            0.9272952180016122
           ],
           "thetaunit": "radians",
           "type": "scatterpolargl"
          }
         ],
         "layout": {
          "title": {
           "text": "Z^2"
          }
         }
        },
        {
         "data": [
          {
           "mode": "markers",
           "r": [
            2.23606797749979,
            5,
            11.180339887498949
           ],
           "theta": [
            0.4636476090008061,
            0.9272952180016122,
            1.3909428270024184
           ],
           "thetaunit": "radians",
           "type": "scatterpolargl"
          }
         ],
         "layout": {
          "title": {
           "text": "Z^3"
          }
         }
        },
        {
         "data": [
          {
           "mode": "markers",
           "r": [
            2.23606797749979,
            5,
            11.180339887498949,
            25
           ],
           "theta": [
            0.4636476090008061,
            0.9272952180016122,
            1.3909428270024184,
            1.8545904360032244
           ],
           "thetaunit": "radians",
           "type": "scatterpolargl"
          }
         ],
         "layout": {
          "title": {
           "text": "Z^4"
          }
         }
        },
        {
         "data": [
          {
           "mode": "markers",
           "r": [
            2.23606797749979,
            5,
            11.180339887498949,
            25,
            55.90169943749474
           ],
           "theta": [
            0.4636476090008061,
            0.9272952180016122,
            1.3909428270024184,
            1.8545904360032244,
            2.3182380450040307
           ],
           "thetaunit": "radians",
           "type": "scatterpolargl"
          }
         ],
         "layout": {
          "title": {
           "text": "Z^5"
          }
         }
        },
        {
         "data": [
          {
           "mode": "markers",
           "r": [
            2.23606797749979,
            5,
            11.180339887498949,
            25,
            55.90169943749474,
            125
           ],
           "theta": [
            0.4636476090008061,
            0.9272952180016122,
            1.3909428270024184,
            1.8545904360032244,
            2.3182380450040307,
            2.781885654004837
           ],
           "thetaunit": "radians",
           "type": "scatterpolargl"
          }
         ],
         "layout": {
          "title": {
           "text": "Z^6"
          }
         }
        },
        {
         "data": [
          {
           "mode": "markers",
           "r": [
            2.23606797749979,
            5,
            11.180339887498949,
            25,
            55.90169943749474,
            125,
            279.5084971874737
           ],
           "theta": [
            0.4636476090008061,
            0.9272952180016122,
            1.3909428270024184,
            1.8545904360032244,
            2.3182380450040307,
            2.781885654004837,
            -3.0376520441739436
           ],
           "thetaunit": "radians",
           "type": "scatterpolargl"
          }
         ],
         "layout": {
          "title": {
           "text": "Z^7"
          }
         }
        },
        {
         "data": [
          {
           "mode": "markers",
           "r": [
            2.23606797749979,
            5,
            11.180339887498949,
            25,
            55.90169943749474,
            125,
            279.5084971874737,
            625
           ],
           "theta": [
            0.4636476090008061,
            0.9272952180016122,
            1.3909428270024184,
            1.8545904360032244,
            2.3182380450040307,
            2.781885654004837,
            -3.0376520441739436,
            -2.5740044351731375
           ],
           "thetaunit": "radians",
           "type": "scatterpolargl"
          }
         ],
         "layout": {
          "title": {
           "text": "Z^8"
          }
         }
        },
        {
         "data": [
          {
           "mode": "markers",
           "r": [
            2.23606797749979,
            5,
            11.180339887498949,
            25,
            55.90169943749474,
            125,
            279.5084971874737,
            625,
            1397.5424859373686
           ],
           "theta": [
            0.4636476090008061,
            0.9272952180016122,
            1.3909428270024184,
            1.8545904360032244,
            2.3182380450040307,
            2.781885654004837,
            -3.0376520441739436,
            -2.5740044351731375,
            -2.1103568261723313
           ],
           "thetaunit": "radians",
           "type": "scatterpolargl"
          }
         ],
         "layout": {
          "title": {
           "text": "Z^9"
          }
         }
        },
        {
         "data": [
          {
           "mode": "markers",
           "r": [
            2.23606797749979,
            5,
            11.180339887498949,
            25,
            55.90169943749474,
            125,
            279.5084971874737,
            625,
            1397.5424859373686,
            3125
           ],
           "theta": [
            0.4636476090008061,
            0.9272952180016122,
            1.3909428270024184,
            1.8545904360032244,
            2.3182380450040307,
            2.781885654004837,
            -3.0376520441739436,
            -2.5740044351731375,
            -2.1103568261723313,
            -1.6467092171715254
           ],
           "thetaunit": "radians",
           "type": "scatterpolargl"
          }
         ],
         "layout": {
          "title": {
           "text": "Z^10"
          }
         }
        }
       ],
       "layout": {
        "template": {
         "data": {
          "bar": [
           {
            "error_x": {
             "color": "#2a3f5f"
            },
            "error_y": {
             "color": "#2a3f5f"
            },
            "marker": {
             "line": {
              "color": "#E5ECF6",
              "width": 0.5
             },
             "pattern": {
              "fillmode": "overlay",
              "size": 10,
              "solidity": 0.2
             }
            },
            "type": "bar"
           }
          ],
          "barpolar": [
           {
            "marker": {
             "line": {
              "color": "#E5ECF6",
              "width": 0.5
             },
             "pattern": {
              "fillmode": "overlay",
              "size": 10,
              "solidity": 0.2
             }
            },
            "type": "barpolar"
           }
          ],
          "carpet": [
           {
            "aaxis": {
             "endlinecolor": "#2a3f5f",
             "gridcolor": "white",
             "linecolor": "white",
             "minorgridcolor": "white",
             "startlinecolor": "#2a3f5f"
            },
            "baxis": {
             "endlinecolor": "#2a3f5f",
             "gridcolor": "white",
             "linecolor": "white",
             "minorgridcolor": "white",
             "startlinecolor": "#2a3f5f"
            },
            "type": "carpet"
           }
          ],
          "choropleth": [
           {
            "colorbar": {
             "outlinewidth": 0,
             "ticks": ""
            },
            "type": "choropleth"
           }
          ],
          "contour": [
           {
            "colorbar": {
             "outlinewidth": 0,
             "ticks": ""
            },
            "colorscale": [
             [
              0,
              "#0d0887"
             ],
             [
              0.1111111111111111,
              "#46039f"
             ],
             [
              0.2222222222222222,
              "#7201a8"
             ],
             [
              0.3333333333333333,
              "#9c179e"
             ],
             [
              0.4444444444444444,
              "#bd3786"
             ],
             [
              0.5555555555555556,
              "#d8576b"
             ],
             [
              0.6666666666666666,
              "#ed7953"
             ],
             [
              0.7777777777777778,
              "#fb9f3a"
             ],
             [
              0.8888888888888888,
              "#fdca26"
             ],
             [
              1,
              "#f0f921"
             ]
            ],
            "type": "contour"
           }
          ],
          "contourcarpet": [
           {
            "colorbar": {
             "outlinewidth": 0,
             "ticks": ""
            },
            "type": "contourcarpet"
           }
          ],
          "heatmap": [
           {
            "colorbar": {
             "outlinewidth": 0,
             "ticks": ""
            },
            "colorscale": [
             [
              0,
              "#0d0887"
             ],
             [
              0.1111111111111111,
              "#46039f"
             ],
             [
              0.2222222222222222,
              "#7201a8"
             ],
             [
              0.3333333333333333,
              "#9c179e"
             ],
             [
              0.4444444444444444,
              "#bd3786"
             ],
             [
              0.5555555555555556,
              "#d8576b"
             ],
             [
              0.6666666666666666,
              "#ed7953"
             ],
             [
              0.7777777777777778,
              "#fb9f3a"
             ],
             [
              0.8888888888888888,
              "#fdca26"
             ],
             [
              1,
              "#f0f921"
             ]
            ],
            "type": "heatmap"
           }
          ],
          "heatmapgl": [
           {
            "colorbar": {
             "outlinewidth": 0,
             "ticks": ""
            },
            "colorscale": [
             [
              0,
              "#0d0887"
             ],
             [
              0.1111111111111111,
              "#46039f"
             ],
             [
              0.2222222222222222,
              "#7201a8"
             ],
             [
              0.3333333333333333,
              "#9c179e"
             ],
             [
              0.4444444444444444,
              "#bd3786"
             ],
             [
              0.5555555555555556,
              "#d8576b"
             ],
             [
              0.6666666666666666,
              "#ed7953"
             ],
             [
              0.7777777777777778,
              "#fb9f3a"
             ],
             [
              0.8888888888888888,
              "#fdca26"
             ],
             [
              1,
              "#f0f921"
             ]
            ],
            "type": "heatmapgl"
           }
          ],
          "histogram": [
           {
            "marker": {
             "pattern": {
              "fillmode": "overlay",
              "size": 10,
              "solidity": 0.2
             }
            },
            "type": "histogram"
           }
          ],
          "histogram2d": [
           {
            "colorbar": {
             "outlinewidth": 0,
             "ticks": ""
            },
            "colorscale": [
             [
              0,
              "#0d0887"
             ],
             [
              0.1111111111111111,
              "#46039f"
             ],
             [
              0.2222222222222222,
              "#7201a8"
             ],
             [
              0.3333333333333333,
              "#9c179e"
             ],
             [
              0.4444444444444444,
              "#bd3786"
             ],
             [
              0.5555555555555556,
              "#d8576b"
             ],
             [
              0.6666666666666666,
              "#ed7953"
             ],
             [
              0.7777777777777778,
              "#fb9f3a"
             ],
             [
              0.8888888888888888,
              "#fdca26"
             ],
             [
              1,
              "#f0f921"
             ]
            ],
            "type": "histogram2d"
           }
          ],
          "histogram2dcontour": [
           {
            "colorbar": {
             "outlinewidth": 0,
             "ticks": ""
            },
            "colorscale": [
             [
              0,
              "#0d0887"
             ],
             [
              0.1111111111111111,
              "#46039f"
             ],
             [
              0.2222222222222222,
              "#7201a8"
             ],
             [
              0.3333333333333333,
              "#9c179e"
             ],
             [
              0.4444444444444444,
              "#bd3786"
             ],
             [
              0.5555555555555556,
              "#d8576b"
             ],
             [
              0.6666666666666666,
              "#ed7953"
             ],
             [
              0.7777777777777778,
              "#fb9f3a"
             ],
             [
              0.8888888888888888,
              "#fdca26"
             ],
             [
              1,
              "#f0f921"
             ]
            ],
            "type": "histogram2dcontour"
           }
          ],
          "mesh3d": [
           {
            "colorbar": {
             "outlinewidth": 0,
             "ticks": ""
            },
            "type": "mesh3d"
           }
          ],
          "parcoords": [
           {
            "line": {
             "colorbar": {
              "outlinewidth": 0,
              "ticks": ""
             }
            },
            "type": "parcoords"
           }
          ],
          "pie": [
           {
            "automargin": true,
            "type": "pie"
           }
          ],
          "scatter": [
           {
            "fillpattern": {
             "fillmode": "overlay",
             "size": 10,
             "solidity": 0.2
            },
            "type": "scatter"
           }
          ],
          "scatter3d": [
           {
            "line": {
             "colorbar": {
              "outlinewidth": 0,
              "ticks": ""
             }
            },
            "marker": {
             "colorbar": {
              "outlinewidth": 0,
              "ticks": ""
             }
            },
            "type": "scatter3d"
           }
          ],
          "scattercarpet": [
           {
            "marker": {
             "colorbar": {
              "outlinewidth": 0,
              "ticks": ""
             }
            },
            "type": "scattercarpet"
           }
          ],
          "scattergeo": [
           {
            "marker": {
             "colorbar": {
              "outlinewidth": 0,
              "ticks": ""
             }
            },
            "type": "scattergeo"
           }
          ],
          "scattergl": [
           {
            "marker": {
             "colorbar": {
              "outlinewidth": 0,
              "ticks": ""
             }
            },
            "type": "scattergl"
           }
          ],
          "scattermapbox": [
           {
            "marker": {
             "colorbar": {
              "outlinewidth": 0,
              "ticks": ""
             }
            },
            "type": "scattermapbox"
           }
          ],
          "scatterpolar": [
           {
            "marker": {
             "colorbar": {
              "outlinewidth": 0,
              "ticks": ""
             }
            },
            "type": "scatterpolar"
           }
          ],
          "scatterpolargl": [
           {
            "marker": {
             "colorbar": {
              "outlinewidth": 0,
              "ticks": ""
             }
            },
            "type": "scatterpolargl"
           }
          ],
          "scatterternary": [
           {
            "marker": {
             "colorbar": {
              "outlinewidth": 0,
              "ticks": ""
             }
            },
            "type": "scatterternary"
           }
          ],
          "surface": [
           {
            "colorbar": {
             "outlinewidth": 0,
             "ticks": ""
            },
            "colorscale": [
             [
              0,
              "#0d0887"
             ],
             [
              0.1111111111111111,
              "#46039f"
             ],
             [
              0.2222222222222222,
              "#7201a8"
             ],
             [
              0.3333333333333333,
              "#9c179e"
             ],
             [
              0.4444444444444444,
              "#bd3786"
             ],
             [
              0.5555555555555556,
              "#d8576b"
             ],
             [
              0.6666666666666666,
              "#ed7953"
             ],
             [
              0.7777777777777778,
              "#fb9f3a"
             ],
             [
              0.8888888888888888,
              "#fdca26"
             ],
             [
              1,
              "#f0f921"
             ]
            ],
            "type": "surface"
           }
          ],
          "table": [
           {
            "cells": {
             "fill": {
              "color": "#EBF0F8"
             },
             "line": {
              "color": "white"
             }
            },
            "header": {
             "fill": {
              "color": "#C8D4E3"
             },
             "line": {
              "color": "white"
             }
            },
            "type": "table"
           }
          ]
         },
         "layout": {
          "annotationdefaults": {
           "arrowcolor": "#2a3f5f",
           "arrowhead": 0,
           "arrowwidth": 1
          },
          "autotypenumbers": "strict",
          "coloraxis": {
           "colorbar": {
            "outlinewidth": 0,
            "ticks": ""
           }
          },
          "colorscale": {
           "diverging": [
            [
             0,
             "#8e0152"
            ],
            [
             0.1,
             "#c51b7d"
            ],
            [
             0.2,
             "#de77ae"
            ],
            [
             0.3,
             "#f1b6da"
            ],
            [
             0.4,
             "#fde0ef"
            ],
            [
             0.5,
             "#f7f7f7"
            ],
            [
             0.6,
             "#e6f5d0"
            ],
            [
             0.7,
             "#b8e186"
            ],
            [
             0.8,
             "#7fbc41"
            ],
            [
             0.9,
             "#4d9221"
            ],
            [
             1,
             "#276419"
            ]
           ],
           "sequential": [
            [
             0,
             "#0d0887"
            ],
            [
             0.1111111111111111,
             "#46039f"
            ],
            [
             0.2222222222222222,
             "#7201a8"
            ],
            [
             0.3333333333333333,
             "#9c179e"
            ],
            [
             0.4444444444444444,
             "#bd3786"
            ],
            [
             0.5555555555555556,
             "#d8576b"
            ],
            [
             0.6666666666666666,
             "#ed7953"
            ],
            [
             0.7777777777777778,
             "#fb9f3a"
            ],
            [
             0.8888888888888888,
             "#fdca26"
            ],
            [
             1,
             "#f0f921"
            ]
           ],
           "sequentialminus": [
            [
             0,
             "#0d0887"
            ],
            [
             0.1111111111111111,
             "#46039f"
            ],
            [
             0.2222222222222222,
             "#7201a8"
            ],
            [
             0.3333333333333333,
             "#9c179e"
            ],
            [
             0.4444444444444444,
             "#bd3786"
            ],
            [
             0.5555555555555556,
             "#d8576b"
            ],
            [
             0.6666666666666666,
             "#ed7953"
            ],
            [
             0.7777777777777778,
             "#fb9f3a"
            ],
            [
             0.8888888888888888,
             "#fdca26"
            ],
            [
             1,
             "#f0f921"
            ]
           ]
          },
          "colorway": [
           "#636efa",
           "#EF553B",
           "#00cc96",
           "#ab63fa",
           "#FFA15A",
           "#19d3f3",
           "#FF6692",
           "#B6E880",
           "#FF97FF",
           "#FECB52"
          ],
          "font": {
           "color": "#2a3f5f"
          },
          "geo": {
           "bgcolor": "white",
           "lakecolor": "white",
           "landcolor": "#E5ECF6",
           "showlakes": true,
           "showland": true,
           "subunitcolor": "white"
          },
          "hoverlabel": {
           "align": "left"
          },
          "hovermode": "closest",
          "mapbox": {
           "style": "light"
          },
          "paper_bgcolor": "white",
          "plot_bgcolor": "#E5ECF6",
          "polar": {
           "angularaxis": {
            "gridcolor": "white",
            "linecolor": "white",
            "ticks": ""
           },
           "bgcolor": "#E5ECF6",
           "radialaxis": {
            "gridcolor": "white",
            "linecolor": "white",
            "ticks": ""
           }
          },
          "scene": {
           "xaxis": {
            "backgroundcolor": "#E5ECF6",
            "gridcolor": "white",
            "gridwidth": 2,
            "linecolor": "white",
            "showbackground": true,
            "ticks": "",
            "zerolinecolor": "white"
           },
           "yaxis": {
            "backgroundcolor": "#E5ECF6",
            "gridcolor": "white",
            "gridwidth": 2,
            "linecolor": "white",
            "showbackground": true,
            "ticks": "",
            "zerolinecolor": "white"
           },
           "zaxis": {
            "backgroundcolor": "#E5ECF6",
            "gridcolor": "white",
            "gridwidth": 2,
            "linecolor": "white",
            "showbackground": true,
            "ticks": "",
            "zerolinecolor": "white"
           }
          },
          "shapedefaults": {
           "line": {
            "color": "#2a3f5f"
           }
          },
          "ternary": {
           "aaxis": {
            "gridcolor": "white",
            "linecolor": "white",
            "ticks": ""
           },
           "baxis": {
            "gridcolor": "white",
            "linecolor": "white",
            "ticks": ""
           },
           "bgcolor": "#E5ECF6",
           "caxis": {
            "gridcolor": "white",
            "linecolor": "white",
            "ticks": ""
           }
          },
          "title": {
           "x": 0.05
          },
          "xaxis": {
           "automargin": true,
           "gridcolor": "white",
           "linecolor": "white",
           "ticks": "",
           "title": {
            "standoff": 15
           },
           "zerolinecolor": "white",
           "zerolinewidth": 2
          },
          "yaxis": {
           "automargin": true,
           "gridcolor": "white",
           "linecolor": "white",
           "ticks": "",
           "title": {
            "standoff": 15
           },
           "zerolinecolor": "white",
           "zerolinewidth": 2
          }
         }
        },
        "title": {
         "text": "Z(0)"
        },
        "updatemenus": [
         {
          "buttons": [
           {
            "args": [
             null
            ],
            "label": "Play",
            "method": "animate"
           }
          ],
          "type": "buttons"
         }
        ]
       }
      }
     },
     "metadata": {},
     "output_type": "display_data"
    }
   ],
   "source": [
    "def plot_power(numb_1: complex):\n",
    "    frames = []\n",
    "    for n in range(1, 11):\n",
    "        r_list = []\n",
    "        theta_list = []\n",
    "        for i in range(1, n + 1):\n",
    "            polar = cmath.polar(numb_1 ** i)\n",
    "            r_list.append(polar[0])\n",
    "            theta_list.append(polar[1])\n",
    "        frames.append(\n",
    "            go.Frame(\n",
    "                data=[\n",
    "                    go.Scatterpolargl(\n",
    "                        r=r_list,\n",
    "                        theta=theta_list,\n",
    "                        mode=\"markers\",\n",
    "                        thetaunit=\"radians\",\n",
    "                    )\n",
    "                ],\n",
    "                layout=go.Layout(title_text=f\"Z^{n}\"),\n",
    "            )\n",
    "        )\n",
    "\n",
    "    fig = go.Figure(\n",
    "        data=go.Scatterpolargl(\n",
    "            r=np.array(cmath.polar(numb_1)[0]),\n",
    "            theta=np.array(cmath.polar(numb_1)[1]),\n",
    "            mode=\"markers\",\n",
    "            thetaunit=\"radians\",\n",
    "        ),\n",
    "        layout=go.Layout(\n",
    "            title=\"Z(0)\",\n",
    "            updatemenus=[\n",
    "                dict(\n",
    "                    type=\"buttons\",\n",
    "                    buttons=[\n",
    "                        dict(\n",
    "                            label=\"Play\",\n",
    "                            method=\"animate\",\n",
    "                            args=[None],\n",
    "                        )\n",
    "                    ],\n",
    "                )\n",
    "            ],\n",
    "        ),\n",
    "        frames=frames,\n",
    "    )\n",
    "\n",
    "    fig.show()\n",
    "\n",
    "\n",
    "plot_power(complex(2, 1))"
   ]
  },
  {
   "cell_type": "markdown",
   "metadata": {},
   "source": [
    "### Q.13"
   ]
  },
  {
   "cell_type": "code",
   "execution_count": 208,
   "metadata": {},
   "outputs": [
    {
     "data": {
      "application/vnd.plotly.v1+json": {
       "config": {
        "plotlyServerURL": "https://plot.ly"
       },
       "data": [
        {
         "mode": "markers",
         "r": [
          2.23606797749979
         ],
         "theta": [
          0.4636476090008061
         ],
         "thetaunit": "radians",
         "type": "scatterpolargl"
        }
       ],
       "frames": [
        {
         "data": [
          {
           "mode": "markers",
           "r": [
            2.8284271247461903
           ],
           "theta": [
            0.7853981633974483
           ],
           "thetaunit": "radians",
           "type": "scatterpolargl"
          }
         ],
         "layout": {
          "title": {
           "text": "Z + 1j"
          }
         }
        },
        {
         "data": [
          {
           "mode": "markers",
           "r": [
            3.605551275463989,
            3.605551275463989
           ],
           "theta": [
            0.982793723247329,
            0.982793723247329
           ],
           "thetaunit": "radians",
           "type": "scatterpolargl"
          }
         ],
         "layout": {
          "title": {
           "text": "Z + (-1+0j)"
          }
         }
        },
        {
         "data": [
          {
           "mode": "markers",
           "r": [
            4.47213595499958,
            4.47213595499958,
            4.47213595499958
           ],
           "theta": [
            1.1071487177940904,
            1.1071487177940904,
            1.1071487177940904
           ],
           "thetaunit": "radians",
           "type": "scatterpolargl"
          }
         ],
         "layout": {
          "title": {
           "text": "Z + (-0-1j)"
          }
         }
        },
        {
         "data": [
          {
           "mode": "markers",
           "r": [
            5.385164807134504,
            5.385164807134504,
            5.385164807134504,
            5.385164807134504
           ],
           "theta": [
            1.1902899496825317,
            1.1902899496825317,
            1.1902899496825317,
            1.1902899496825317
           ],
           "thetaunit": "radians",
           "type": "scatterpolargl"
          }
         ],
         "layout": {
          "title": {
           "text": "Z + (1+0j)"
          }
         }
        },
        {
         "data": [
          {
           "mode": "markers",
           "r": [
            6.324555320336759,
            6.324555320336759,
            6.324555320336759,
            6.324555320336759,
            6.324555320336759
           ],
           "theta": [
            1.2490457723982544,
            1.2490457723982544,
            1.2490457723982544,
            1.2490457723982544,
            1.2490457723982544
           ],
           "thetaunit": "radians",
           "type": "scatterpolargl"
          }
         ],
         "layout": {
          "title": {
           "text": "Z + 1j"
          }
         }
        },
        {
         "data": [
          {
           "mode": "markers",
           "r": [
            7.280109889280518,
            7.280109889280518,
            7.280109889280518,
            7.280109889280518,
            7.280109889280518,
            7.280109889280518
           ],
           "theta": [
            1.2924966677897853,
            1.2924966677897853,
            1.2924966677897853,
            1.2924966677897853,
            1.2924966677897853,
            1.2924966677897853
           ],
           "thetaunit": "radians",
           "type": "scatterpolargl"
          }
         ],
         "layout": {
          "title": {
           "text": "Z + (-1+0j)"
          }
         }
        },
        {
         "data": [
          {
           "mode": "markers",
           "r": [
            8.246211251235321,
            8.246211251235321,
            8.246211251235321,
            8.246211251235321,
            8.246211251235321,
            8.246211251235321,
            8.246211251235321
           ],
           "theta": [
            1.3258176636680326,
            1.3258176636680326,
            1.3258176636680326,
            1.3258176636680326,
            1.3258176636680326,
            1.3258176636680326,
            1.3258176636680326
           ],
           "thetaunit": "radians",
           "type": "scatterpolargl"
          }
         ],
         "layout": {
          "title": {
           "text": "Z + (-0-1j)"
          }
         }
        },
        {
         "data": [
          {
           "mode": "markers",
           "r": [
            9.219544457292887,
            9.219544457292887,
            9.219544457292887,
            9.219544457292887,
            9.219544457292887,
            9.219544457292887,
            9.219544457292887,
            9.219544457292887
           ],
           "theta": [
            1.3521273809209546,
            1.3521273809209546,
            1.3521273809209546,
            1.3521273809209546,
            1.3521273809209546,
            1.3521273809209546,
            1.3521273809209546,
            1.3521273809209546
           ],
           "thetaunit": "radians",
           "type": "scatterpolargl"
          }
         ],
         "layout": {
          "title": {
           "text": "Z + (1+0j)"
          }
         }
        },
        {
         "data": [
          {
           "mode": "markers",
           "r": [
            10.198039027185569,
            10.198039027185569,
            10.198039027185569,
            10.198039027185569,
            10.198039027185569,
            10.198039027185569,
            10.198039027185569,
            10.198039027185569,
            10.198039027185569
           ],
           "theta": [
            1.373400766945016,
            1.373400766945016,
            1.373400766945016,
            1.373400766945016,
            1.373400766945016,
            1.373400766945016,
            1.373400766945016,
            1.373400766945016,
            1.373400766945016
           ],
           "thetaunit": "radians",
           "type": "scatterpolargl"
          }
         ],
         "layout": {
          "title": {
           "text": "Z + 1j"
          }
         }
        },
        {
         "data": [
          {
           "mode": "markers",
           "r": [
            11.180339887498949,
            11.180339887498949,
            11.180339887498949,
            11.180339887498949,
            11.180339887498949,
            11.180339887498949,
            11.180339887498949,
            11.180339887498949,
            11.180339887498949,
            11.180339887498949
           ],
           "theta": [
            1.3909428270024184,
            1.3909428270024184,
            1.3909428270024184,
            1.3909428270024184,
            1.3909428270024184,
            1.3909428270024184,
            1.3909428270024184,
            1.3909428270024184,
            1.3909428270024184,
            1.3909428270024184
           ],
           "thetaunit": "radians",
           "type": "scatterpolargl"
          }
         ],
         "layout": {
          "title": {
           "text": "Z + (-1+0j)"
          }
         }
        }
       ],
       "layout": {
        "template": {
         "data": {
          "bar": [
           {
            "error_x": {
             "color": "#2a3f5f"
            },
            "error_y": {
             "color": "#2a3f5f"
            },
            "marker": {
             "line": {
              "color": "#E5ECF6",
              "width": 0.5
             },
             "pattern": {
              "fillmode": "overlay",
              "size": 10,
              "solidity": 0.2
             }
            },
            "type": "bar"
           }
          ],
          "barpolar": [
           {
            "marker": {
             "line": {
              "color": "#E5ECF6",
              "width": 0.5
             },
             "pattern": {
              "fillmode": "overlay",
              "size": 10,
              "solidity": 0.2
             }
            },
            "type": "barpolar"
           }
          ],
          "carpet": [
           {
            "aaxis": {
             "endlinecolor": "#2a3f5f",
             "gridcolor": "white",
             "linecolor": "white",
             "minorgridcolor": "white",
             "startlinecolor": "#2a3f5f"
            },
            "baxis": {
             "endlinecolor": "#2a3f5f",
             "gridcolor": "white",
             "linecolor": "white",
             "minorgridcolor": "white",
             "startlinecolor": "#2a3f5f"
            },
            "type": "carpet"
           }
          ],
          "choropleth": [
           {
            "colorbar": {
             "outlinewidth": 0,
             "ticks": ""
            },
            "type": "choropleth"
           }
          ],
          "contour": [
           {
            "colorbar": {
             "outlinewidth": 0,
             "ticks": ""
            },
            "colorscale": [
             [
              0,
              "#0d0887"
             ],
             [
              0.1111111111111111,
              "#46039f"
             ],
             [
              0.2222222222222222,
              "#7201a8"
             ],
             [
              0.3333333333333333,
              "#9c179e"
             ],
             [
              0.4444444444444444,
              "#bd3786"
             ],
             [
              0.5555555555555556,
              "#d8576b"
             ],
             [
              0.6666666666666666,
              "#ed7953"
             ],
             [
              0.7777777777777778,
              "#fb9f3a"
             ],
             [
              0.8888888888888888,
              "#fdca26"
             ],
             [
              1,
              "#f0f921"
             ]
            ],
            "type": "contour"
           }
          ],
          "contourcarpet": [
           {
            "colorbar": {
             "outlinewidth": 0,
             "ticks": ""
            },
            "type": "contourcarpet"
           }
          ],
          "heatmap": [
           {
            "colorbar": {
             "outlinewidth": 0,
             "ticks": ""
            },
            "colorscale": [
             [
              0,
              "#0d0887"
             ],
             [
              0.1111111111111111,
              "#46039f"
             ],
             [
              0.2222222222222222,
              "#7201a8"
             ],
             [
              0.3333333333333333,
              "#9c179e"
             ],
             [
              0.4444444444444444,
              "#bd3786"
             ],
             [
              0.5555555555555556,
              "#d8576b"
             ],
             [
              0.6666666666666666,
              "#ed7953"
             ],
             [
              0.7777777777777778,
              "#fb9f3a"
             ],
             [
              0.8888888888888888,
              "#fdca26"
             ],
             [
              1,
              "#f0f921"
             ]
            ],
            "type": "heatmap"
           }
          ],
          "heatmapgl": [
           {
            "colorbar": {
             "outlinewidth": 0,
             "ticks": ""
            },
            "colorscale": [
             [
              0,
              "#0d0887"
             ],
             [
              0.1111111111111111,
              "#46039f"
             ],
             [
              0.2222222222222222,
              "#7201a8"
             ],
             [
              0.3333333333333333,
              "#9c179e"
             ],
             [
              0.4444444444444444,
              "#bd3786"
             ],
             [
              0.5555555555555556,
              "#d8576b"
             ],
             [
              0.6666666666666666,
              "#ed7953"
             ],
             [
              0.7777777777777778,
              "#fb9f3a"
             ],
             [
              0.8888888888888888,
              "#fdca26"
             ],
             [
              1,
              "#f0f921"
             ]
            ],
            "type": "heatmapgl"
           }
          ],
          "histogram": [
           {
            "marker": {
             "pattern": {
              "fillmode": "overlay",
              "size": 10,
              "solidity": 0.2
             }
            },
            "type": "histogram"
           }
          ],
          "histogram2d": [
           {
            "colorbar": {
             "outlinewidth": 0,
             "ticks": ""
            },
            "colorscale": [
             [
              0,
              "#0d0887"
             ],
             [
              0.1111111111111111,
              "#46039f"
             ],
             [
              0.2222222222222222,
              "#7201a8"
             ],
             [
              0.3333333333333333,
              "#9c179e"
             ],
             [
              0.4444444444444444,
              "#bd3786"
             ],
             [
              0.5555555555555556,
              "#d8576b"
             ],
             [
              0.6666666666666666,
              "#ed7953"
             ],
             [
              0.7777777777777778,
              "#fb9f3a"
             ],
             [
              0.8888888888888888,
              "#fdca26"
             ],
             [
              1,
              "#f0f921"
             ]
            ],
            "type": "histogram2d"
           }
          ],
          "histogram2dcontour": [
           {
            "colorbar": {
             "outlinewidth": 0,
             "ticks": ""
            },
            "colorscale": [
             [
              0,
              "#0d0887"
             ],
             [
              0.1111111111111111,
              "#46039f"
             ],
             [
              0.2222222222222222,
              "#7201a8"
             ],
             [
              0.3333333333333333,
              "#9c179e"
             ],
             [
              0.4444444444444444,
              "#bd3786"
             ],
             [
              0.5555555555555556,
              "#d8576b"
             ],
             [
              0.6666666666666666,
              "#ed7953"
             ],
             [
              0.7777777777777778,
              "#fb9f3a"
             ],
             [
              0.8888888888888888,
              "#fdca26"
             ],
             [
              1,
              "#f0f921"
             ]
            ],
            "type": "histogram2dcontour"
           }
          ],
          "mesh3d": [
           {
            "colorbar": {
             "outlinewidth": 0,
             "ticks": ""
            },
            "type": "mesh3d"
           }
          ],
          "parcoords": [
           {
            "line": {
             "colorbar": {
              "outlinewidth": 0,
              "ticks": ""
             }
            },
            "type": "parcoords"
           }
          ],
          "pie": [
           {
            "automargin": true,
            "type": "pie"
           }
          ],
          "scatter": [
           {
            "fillpattern": {
             "fillmode": "overlay",
             "size": 10,
             "solidity": 0.2
            },
            "type": "scatter"
           }
          ],
          "scatter3d": [
           {
            "line": {
             "colorbar": {
              "outlinewidth": 0,
              "ticks": ""
             }
            },
            "marker": {
             "colorbar": {
              "outlinewidth": 0,
              "ticks": ""
             }
            },
            "type": "scatter3d"
           }
          ],
          "scattercarpet": [
           {
            "marker": {
             "colorbar": {
              "outlinewidth": 0,
              "ticks": ""
             }
            },
            "type": "scattercarpet"
           }
          ],
          "scattergeo": [
           {
            "marker": {
             "colorbar": {
              "outlinewidth": 0,
              "ticks": ""
             }
            },
            "type": "scattergeo"
           }
          ],
          "scattergl": [
           {
            "marker": {
             "colorbar": {
              "outlinewidth": 0,
              "ticks": ""
             }
            },
            "type": "scattergl"
           }
          ],
          "scattermapbox": [
           {
            "marker": {
             "colorbar": {
              "outlinewidth": 0,
              "ticks": ""
             }
            },
            "type": "scattermapbox"
           }
          ],
          "scatterpolar": [
           {
            "marker": {
             "colorbar": {
              "outlinewidth": 0,
              "ticks": ""
             }
            },
            "type": "scatterpolar"
           }
          ],
          "scatterpolargl": [
           {
            "marker": {
             "colorbar": {
              "outlinewidth": 0,
              "ticks": ""
             }
            },
            "type": "scatterpolargl"
           }
          ],
          "scatterternary": [
           {
            "marker": {
             "colorbar": {
              "outlinewidth": 0,
              "ticks": ""
             }
            },
            "type": "scatterternary"
           }
          ],
          "surface": [
           {
            "colorbar": {
             "outlinewidth": 0,
             "ticks": ""
            },
            "colorscale": [
             [
              0,
              "#0d0887"
             ],
             [
              0.1111111111111111,
              "#46039f"
             ],
             [
              0.2222222222222222,
              "#7201a8"
             ],
             [
              0.3333333333333333,
              "#9c179e"
             ],
             [
              0.4444444444444444,
              "#bd3786"
             ],
             [
              0.5555555555555556,
              "#d8576b"
             ],
             [
              0.6666666666666666,
              "#ed7953"
             ],
             [
              0.7777777777777778,
              "#fb9f3a"
             ],
             [
              0.8888888888888888,
              "#fdca26"
             ],
             [
              1,
              "#f0f921"
             ]
            ],
            "type": "surface"
           }
          ],
          "table": [
           {
            "cells": {
             "fill": {
              "color": "#EBF0F8"
             },
             "line": {
              "color": "white"
             }
            },
            "header": {
             "fill": {
              "color": "#C8D4E3"
             },
             "line": {
              "color": "white"
             }
            },
            "type": "table"
           }
          ]
         },
         "layout": {
          "annotationdefaults": {
           "arrowcolor": "#2a3f5f",
           "arrowhead": 0,
           "arrowwidth": 1
          },
          "autotypenumbers": "strict",
          "coloraxis": {
           "colorbar": {
            "outlinewidth": 0,
            "ticks": ""
           }
          },
          "colorscale": {
           "diverging": [
            [
             0,
             "#8e0152"
            ],
            [
             0.1,
             "#c51b7d"
            ],
            [
             0.2,
             "#de77ae"
            ],
            [
             0.3,
             "#f1b6da"
            ],
            [
             0.4,
             "#fde0ef"
            ],
            [
             0.5,
             "#f7f7f7"
            ],
            [
             0.6,
             "#e6f5d0"
            ],
            [
             0.7,
             "#b8e186"
            ],
            [
             0.8,
             "#7fbc41"
            ],
            [
             0.9,
             "#4d9221"
            ],
            [
             1,
             "#276419"
            ]
           ],
           "sequential": [
            [
             0,
             "#0d0887"
            ],
            [
             0.1111111111111111,
             "#46039f"
            ],
            [
             0.2222222222222222,
             "#7201a8"
            ],
            [
             0.3333333333333333,
             "#9c179e"
            ],
            [
             0.4444444444444444,
             "#bd3786"
            ],
            [
             0.5555555555555556,
             "#d8576b"
            ],
            [
             0.6666666666666666,
             "#ed7953"
            ],
            [
             0.7777777777777778,
             "#fb9f3a"
            ],
            [
             0.8888888888888888,
             "#fdca26"
            ],
            [
             1,
             "#f0f921"
            ]
           ],
           "sequentialminus": [
            [
             0,
             "#0d0887"
            ],
            [
             0.1111111111111111,
             "#46039f"
            ],
            [
             0.2222222222222222,
             "#7201a8"
            ],
            [
             0.3333333333333333,
             "#9c179e"
            ],
            [
             0.4444444444444444,
             "#bd3786"
            ],
            [
             0.5555555555555556,
             "#d8576b"
            ],
            [
             0.6666666666666666,
             "#ed7953"
            ],
            [
             0.7777777777777778,
             "#fb9f3a"
            ],
            [
             0.8888888888888888,
             "#fdca26"
            ],
            [
             1,
             "#f0f921"
            ]
           ]
          },
          "colorway": [
           "#636efa",
           "#EF553B",
           "#00cc96",
           "#ab63fa",
           "#FFA15A",
           "#19d3f3",
           "#FF6692",
           "#B6E880",
           "#FF97FF",
           "#FECB52"
          ],
          "font": {
           "color": "#2a3f5f"
          },
          "geo": {
           "bgcolor": "white",
           "lakecolor": "white",
           "landcolor": "#E5ECF6",
           "showlakes": true,
           "showland": true,
           "subunitcolor": "white"
          },
          "hoverlabel": {
           "align": "left"
          },
          "hovermode": "closest",
          "mapbox": {
           "style": "light"
          },
          "paper_bgcolor": "white",
          "plot_bgcolor": "#E5ECF6",
          "polar": {
           "angularaxis": {
            "gridcolor": "white",
            "linecolor": "white",
            "ticks": ""
           },
           "bgcolor": "#E5ECF6",
           "radialaxis": {
            "gridcolor": "white",
            "linecolor": "white",
            "ticks": ""
           }
          },
          "scene": {
           "xaxis": {
            "backgroundcolor": "#E5ECF6",
            "gridcolor": "white",
            "gridwidth": 2,
            "linecolor": "white",
            "showbackground": true,
            "ticks": "",
            "zerolinecolor": "white"
           },
           "yaxis": {
            "backgroundcolor": "#E5ECF6",
            "gridcolor": "white",
            "gridwidth": 2,
            "linecolor": "white",
            "showbackground": true,
            "ticks": "",
            "zerolinecolor": "white"
           },
           "zaxis": {
            "backgroundcolor": "#E5ECF6",
            "gridcolor": "white",
            "gridwidth": 2,
            "linecolor": "white",
            "showbackground": true,
            "ticks": "",
            "zerolinecolor": "white"
           }
          },
          "shapedefaults": {
           "line": {
            "color": "#2a3f5f"
           }
          },
          "ternary": {
           "aaxis": {
            "gridcolor": "white",
            "linecolor": "white",
            "ticks": ""
           },
           "baxis": {
            "gridcolor": "white",
            "linecolor": "white",
            "ticks": ""
           },
           "bgcolor": "#E5ECF6",
           "caxis": {
            "gridcolor": "white",
            "linecolor": "white",
            "ticks": ""
           }
          },
          "title": {
           "x": 0.05
          },
          "xaxis": {
           "automargin": true,
           "gridcolor": "white",
           "linecolor": "white",
           "ticks": "",
           "title": {
            "standoff": 15
           },
           "zerolinecolor": "white",
           "zerolinewidth": 2
          },
          "yaxis": {
           "automargin": true,
           "gridcolor": "white",
           "linecolor": "white",
           "ticks": "",
           "title": {
            "standoff": 15
           },
           "zerolinecolor": "white",
           "zerolinewidth": 2
          }
         }
        },
        "title": {
         "text": "Z(0)"
        },
        "updatemenus": [
         {
          "buttons": [
           {
            "args": [
             null
            ],
            "label": "Play",
            "method": "animate"
           }
          ],
          "type": "buttons"
         }
        ]
       }
      }
     },
     "metadata": {},
     "output_type": "display_data"
    }
   ],
   "source": [
    "def plot_sum(numb_1: complex, i0:complex):\n",
    "    frames = []\n",
    "    for n in range(1, 11):\n",
    "        r_list = []\n",
    "        theta_list = []\n",
    "        for i in range(1, n + 1):\n",
    "            polar = cmath.polar(numb_1 + n*i0)\n",
    "            r_list.append(polar[0])\n",
    "            theta_list.append(polar[1])\n",
    "        frames.append(\n",
    "            go.Frame(\n",
    "                data=[\n",
    "                    go.Scatterpolargl(\n",
    "                        r=r_list,\n",
    "                        theta=theta_list,\n",
    "                        mode=\"markers\",\n",
    "                        thetaunit=\"radians\",\n",
    "                    )\n",
    "                ],\n",
    "                layout=go.Layout(title_text=f\"Z + {i0 ** n}\"),\n",
    "            )\n",
    "        )\n",
    "\n",
    "    fig = go.Figure(\n",
    "        data=go.Scatterpolargl(\n",
    "            r=np.array(cmath.polar(numb_1)[0]),\n",
    "            theta=np.array(cmath.polar(numb_1)[1]),\n",
    "            mode=\"markers\",\n",
    "            thetaunit=\"radians\",\n",
    "        ),\n",
    "        layout=go.Layout(\n",
    "            title=\"Z(0)\",\n",
    "            updatemenus=[\n",
    "                dict(\n",
    "                    type=\"buttons\",\n",
    "                    buttons=[\n",
    "                        dict(\n",
    "                            label=\"Play\",\n",
    "                            method=\"animate\",\n",
    "                            args=[None],\n",
    "                        )\n",
    "                    ],\n",
    "                )\n",
    "            ],\n",
    "        ),\n",
    "        frames=frames,\n",
    "    )\n",
    "\n",
    "    fig.show()\n",
    "\n",
    "\n",
    "plot_sum(complex(2, 1), complex(0, 1))"
   ]
  },
  {
   "cell_type": "markdown",
   "metadata": {},
   "source": [
    "### Q.14"
   ]
  },
  {
   "cell_type": "code",
   "execution_count": 28,
   "metadata": {},
   "outputs": [
    {
     "data": {
      "text/latex": [
       "$\\displaystyle \\frac{1}{x} = R(x)$"
      ],
      "text/plain": [
       "Eq(1/x, R(x))"
      ]
     },
     "execution_count": 28,
     "metadata": {},
     "output_type": "execute_result"
    }
   ],
   "source": [
    "def moebius_transf(a:complex, b:complex, c:complex, d:complex):\n",
    "    if ((a*d - c*b) == 0):\n",
    "        return(\"Condition not satisfied\")\n",
    "    \n",
    "    x = symbols('x')\n",
    "    R = symbols('R(x)')\n",
    "    \n",
    "    return (Eq((a*x + b)/(c*x + d), R))\n",
    "\n",
    "\n",
    "moebius_transf(0, 1, 1, 0)"
   ]
  },
  {
   "cell_type": "markdown",
   "metadata": {},
   "source": [
    "### Q.15"
   ]
  },
  {
   "cell_type": "code",
   "execution_count": 13,
   "metadata": {},
   "outputs": [
    {
     "name": "stdout",
     "output_type": "stream",
     "text": [
      "[[ 8 10 12]\n",
      " [14 16 18]]\n",
      "[[-2.   1. ]\n",
      " [ 1.5 -0.5]]\n",
      "[[ 5 10 15]\n",
      " [20 25 30]]\n"
     ]
    }
   ],
   "source": [
    "# O problema supõe matriz quadrada\n",
    "\n",
    "def subspace_sum(matrix_a:np.array, matrix_b:np.array):\n",
    "    return (matrix_a + matrix_b)\n",
    "\n",
    "\n",
    "def subspace_inv(matrix_a:np.array):\n",
    "    return np.linalg.inv(matrix_a)\n",
    "\n",
    "\n",
    "def subspace_contraction(matrix_a:np.array, factor:complex):\n",
    "    return factor*matrix_a\n",
    "\n",
    "print(subspace_sum(\n",
    "    np.array([[1, 2, 3], \n",
    "             [4, 5, 6]]),\n",
    "    np.array([[7, 8, 9],\n",
    "             [10, 11, 12]])\n",
    "             ))\n",
    "\n",
    "print(subspace_inv(\n",
    "    np.array([[1, 2], \n",
    "             [3, 4]]),\n",
    "             ))\n",
    "\n",
    "print(subspace_contraction(\n",
    "    np.array([[1, 2, 3], \n",
    "             [4, 5, 6]]),\n",
    "             5\n",
    "             ))\n"
   ]
  },
  {
   "cell_type": "markdown",
   "metadata": {},
   "source": [
    "### Q.16"
   ]
  },
  {
   "cell_type": "code",
   "execution_count": 9,
   "metadata": {},
   "outputs": [
    {
     "name": "stdout",
     "output_type": "stream",
     "text": [
      "[[1.+0.j 2.+0.j]\n",
      " [1.+2.j 3.+5.j]]\n",
      "[[1.-0.j 1.-2.j]\n",
      " [2.-0.j 3.-5.j]]\n",
      "[[1.-0.j 2.-0.j]\n",
      " [1.-2.j 3.-5.j]]\n"
     ]
    }
   ],
   "source": [
    "def find_transpose(matrix_a:np.array):\n",
    "    return matrix_a.transpose()\n",
    "\n",
    "\n",
    "def find_conjugate(matrix_a:np.array):\n",
    "    return matrix_a.conjugate()\n",
    "\n",
    "\n",
    "def find_dagger(matrix_a:np.array):\n",
    "    return find_conjugate(find_transpose(matrix_a))\n",
    "\n",
    "\n",
    "print(find_transpose(\n",
    "    np.array([\n",
    "        [1, complex(1, 2)],\n",
    "        [2, complex(3, 5)]\n",
    "    ])\n",
    "))\n",
    "\n",
    "print(find_conjugate(\n",
    "    np.array([\n",
    "        [1, complex(1, 2)],\n",
    "        [2, complex(3, 5)]\n",
    "    ])\n",
    "))\n",
    "\n",
    "print(find_dagger(\n",
    "    np.array([\n",
    "        [1, complex(1, 2)],\n",
    "        [2, complex(3, 5)]\n",
    "    ])\n",
    "))"
   ]
  },
  {
   "cell_type": "markdown",
   "metadata": {},
   "source": [
    "### Q.17"
   ]
  },
  {
   "cell_type": "code",
   "execution_count": 18,
   "metadata": {},
   "outputs": [
    {
     "name": "stdout",
     "output_type": "stream",
     "text": [
      "(69-4j)\n"
     ]
    }
   ],
   "source": [
    "# Frobenius Inner Product using vectorized operation\n",
    "\n",
    "def vec_inner_product(matrix_a:np.array, matrix_b:np.array):\n",
    "    return find_dagger(matrix_a.flatten()).dot(matrix_b.flatten())\n",
    "\n",
    "\n",
    "print(vec_inner_product(\n",
    "    np.array([\n",
    "        [1, complex(1, 2)],\n",
    "        [complex(3, 4), 2]\n",
    "    ]),\n",
    "    np.array([\n",
    "        [complex(5, 6), 3],\n",
    "        [complex(7, 8), 4]\n",
    "    ])\n",
    "))"
   ]
  },
  {
   "cell_type": "markdown",
   "metadata": {},
   "source": [
    "### Q.18"
   ]
  },
  {
   "cell_type": "code",
   "execution_count": 24,
   "metadata": {},
   "outputs": [
    {
     "name": "stdout",
     "output_type": "stream",
     "text": [
      "(69-4j)\n"
     ]
    }
   ],
   "source": [
    "# Frobenius Inner Product using trace operation\n",
    "\n",
    "def trace_inner_product(matrix_a:np.array, matrix_b:np.array):\n",
    "    return np.trace(find_dagger(matrix_a).dot(matrix_b))\n",
    "\n",
    "\n",
    "print(trace_inner_product(\n",
    "    np.array([\n",
    "        [1, complex(1, 2)],\n",
    "        [complex(3, 4), 2]\n",
    "    ]),\n",
    "    np.array([\n",
    "        [complex(5, 6), 3],\n",
    "        [complex(7, 8), 4]\n",
    "    ])\n",
    "))"
   ]
  },
  {
   "cell_type": "markdown",
   "metadata": {},
   "source": [
    "### Q.19"
   ]
  },
  {
   "cell_type": "code",
   "execution_count": 26,
   "metadata": {},
   "outputs": [
    {
     "name": "stdout",
     "output_type": "stream",
     "text": [
      "True\n"
     ]
    }
   ],
   "source": [
    "# Test hermitian matrix\n",
    "\n",
    "def is_hermitian(matrix_a:np.array):\n",
    "    return (trace_inner_product(matrix_a, matrix_a)) == (np.trace(matrix_a.dot(matrix_a)))\n",
    "\n",
    "\n",
    "print(is_hermitian(\n",
    "    np.array([\n",
    "        [1, complex(4, 3)],\n",
    "        [complex(4, -3), 5]\n",
    "    ])\n",
    "))"
   ]
  },
  {
   "cell_type": "markdown",
   "metadata": {},
   "source": [
    "### Q.20"
   ]
  },
  {
   "cell_type": "code",
   "execution_count": 52,
   "metadata": {},
   "outputs": [
    {
     "name": "stdout",
     "output_type": "stream",
     "text": [
      "True\n"
     ]
    }
   ],
   "source": [
    "# Expects an square matrix\n",
    "\n",
    "def is_unitary(matrix_a:np.array):\n",
    "    return ((\n",
    "        (find_dagger(matrix_a).dot(matrix_a) == matrix_a.dot(find_dagger(matrix_a))).all() and\n",
    "         (matrix_a.dot(find_dagger(matrix_a)) == np.identity(len(matrix_a))).all()\n",
    "    ))\n",
    "\n",
    "\n",
    "print(is_unitary(\n",
    "    1/2*np.array([\n",
    "        [complex(1, -1), complex(1, 1)],\n",
    "        [complex(1, 1), complex(1, -1)]\n",
    "    ])\n",
    "))"
   ]
  },
  {
   "cell_type": "markdown",
   "metadata": {},
   "source": [
    "### Q.21"
   ]
  },
  {
   "cell_type": "code",
   "execution_count": 61,
   "metadata": {},
   "outputs": [
    {
     "name": "stdout",
     "output_type": "stream",
     "text": [
      "[[ 0. +1.j  3. +0.j -2. +1.j  3. +6.j]\n",
      " [ 0. +0.j  1. +3.j  0. +0.j -5. +5.j]\n",
      " [-4. +3.j  9.+12.j  0. +2.j  6. +0.j]\n",
      " [ 0. +0.j -9.+13.j  0. +0.j  2. +6.j]]\n"
     ]
    }
   ],
   "source": [
    "# For our propose, tensorial product is actually hte Kronecker product \n",
    "\n",
    "def calc_tensor_prod(matrix_a:np.array, matrix_b:np.array):\n",
    "    return np.kron(matrix_a, matrix_b)\n",
    "\n",
    "\n",
    "print(calc_tensor_prod(\n",
    "    np.array([\n",
    "        [1, complex(1, 2)],\n",
    "        [complex(3, 4), 2]\n",
    "    ]),\n",
    "    np.array([\n",
    "        [complex(0, 1), 3],\n",
    "        [0, complex(1, 3)]\n",
    "    ])\n",
    "))"
   ]
  }
 ],
 "metadata": {
  "kernelspec": {
   "display_name": "Python 3",
   "language": "python",
   "name": "python3"
  },
  "language_info": {
   "codemirror_mode": {
    "name": "ipython",
    "version": 3
   },
   "file_extension": ".py",
   "mimetype": "text/x-python",
   "name": "python",
   "nbconvert_exporter": "python",
   "pygments_lexer": "ipython3",
   "version": "3.12.2"
  }
 },
 "nbformat": 4,
 "nbformat_minor": 2
}
