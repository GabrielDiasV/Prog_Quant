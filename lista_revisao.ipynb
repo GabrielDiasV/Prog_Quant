{
 "cells": [
  {
   "cell_type": "code",
   "execution_count": 23,
   "metadata": {},
   "outputs": [],
   "source": [
    "import pandas as pd\n",
    "import numpy as np\n",
    "import cmath\n",
    "from sympy import symbols, Eq, solve\n",
    "import plotly.express as px\n",
    "from plotly.subplots import make_subplots\n",
    "import plotly.graph_objects as go"
   ]
  },
  {
   "cell_type": "markdown",
   "metadata": {},
   "source": [
    "# Questions"
   ]
  },
  {
   "cell_type": "markdown",
   "metadata": {},
   "source": [
    "### Q.1 "
   ]
  },
  {
   "cell_type": "code",
   "execution_count": 12,
   "metadata": {},
   "outputs": [
    {
     "name": "stdout",
     "output_type": "stream",
     "text": [
      "[-I, I]\n"
     ]
    }
   ],
   "source": [
    "# x4 + 2x2 + 1 = 0 = y2 + 2y + 1; y = x2\n",
    "# delta(y) = 0\n",
    "# y = -2/2 = -1 = x2 => x = +-sqrt(-1)\n",
    "def calc_baskara():\n",
    "    x = symbols('x')\n",
    "\n",
    "    return solve(Eq(x**4 + 2*x**2 + 1, 0), x)\n",
    "\n",
    "\n",
    "# Test\n",
    "print(calc_baskara())"
   ]
  },
  {
   "cell_type": "markdown",
   "metadata": {},
   "source": [
    "### Q.2"
   ]
  },
  {
   "cell_type": "code",
   "execution_count": 17,
   "metadata": {},
   "outputs": [
    {
     "name": "stdout",
     "output_type": "stream",
     "text": [
      "-1j\n"
     ]
    }
   ],
   "source": [
    "def calc_complex_power(power_factor:int):\n",
    "\n",
    "    if (power_factor == 0):\n",
    "        complex_number = complex(1, 0)\n",
    "    elif((power_factor % 4) == 0):\n",
    "        complex_number = complex(1, 0)\n",
    "    elif((power_factor % 3) == 0):\n",
    "        complex_number = complex(0, -1)\n",
    "    elif((power_factor % 2) == 0):\n",
    "        complex_number = complex(-1, 0)\n",
    "    else:\n",
    "        complex_number = complex(0, 1)\n",
    "\n",
    "    return complex_number\n",
    "\n",
    "# Test\n",
    "print(calc_complex_power(15))"
   ]
  },
  {
   "cell_type": "markdown",
   "metadata": {},
   "source": [
    "### Q.3"
   ]
  },
  {
   "cell_type": "code",
   "execution_count": 16,
   "metadata": {},
   "outputs": [
    {
     "name": "stdout",
     "output_type": "stream",
     "text": [
      "[(4+3j), (7+11j)]\n"
     ]
    }
   ],
   "source": [
    "def calc_complex_product(first_numb:complex, second_numb:complex):\n",
    "    return first_numb * second_numb\n",
    "\n",
    "\n",
    "def calc_complex_sum(first_numb:complex, second_numb:complex):\n",
    "    return first_numb + second_numb\n",
    "\n",
    "\n",
    "s_output = calc_complex_sum(complex(3, -1), complex(1, 4))\n",
    "\n",
    "p_output = calc_complex_product(complex(3, -1), complex(1, 4))\n",
    "\n",
    "print([s_output, p_output])"
   ]
  },
  {
   "cell_type": "markdown",
   "metadata": {},
   "source": [
    "### Q.4"
   ]
  },
  {
   "cell_type": "code",
   "execution_count": 15,
   "metadata": {},
   "outputs": [
    {
     "data": {
      "text/plain": [
       "True"
      ]
     },
     "execution_count": 15,
     "metadata": {},
     "output_type": "execute_result"
    }
   ],
   "source": [
    "def verify_solution(p_solution:complex, polinomial_coef:list):\n",
    "    polinomial_sum = 0\n",
    "    for index, val in enumerate(polinomial_coef):\n",
    "        polinomial_sum += val*(p_solution ** index)\n",
    "\n",
    "    return True if (polinomial_sum == 0) else False\n",
    " \n",
    "verify_solution(complex(-1, 1), [2, 2, 1])"
   ]
  },
  {
   "cell_type": "markdown",
   "metadata": {},
   "source": [
    "\n",
    "### Q.5"
   ]
  },
  {
   "cell_type": "code",
   "execution_count": 2,
   "metadata": {},
   "outputs": [
    {
     "name": "stdout",
     "output_type": "stream",
     "text": [
      "[{'is_sum_commut': True, 'is_prod_commut': True}, {'is_sum_associative': True, 'is_prod_associative': True}, {'is_distributive': True}]\n"
     ]
    }
   ],
   "source": [
    "def commut_test(numb_1:complex, numb_2:complex):\n",
    "    answer = {'is_sum_commut': False, \n",
    "              'is_prod_commut': False\n",
    "              }\n",
    "    \n",
    "    if ((numb_1 + numb_2) == (numb_2 + numb_1)):\n",
    "        answer['is_sum_commut'] = True\n",
    "\n",
    "    if ((numb_1 * numb_2) == (numb_2 * numb_1)):\n",
    "        answer['is_prod_commut'] = True\n",
    "    \n",
    "    return answer\n",
    "\n",
    "\n",
    "def associative_test(numb_1:complex, numb_2:complex, numb_3:complex):\n",
    "    answer = {'is_sum_associative': False, \n",
    "              'is_prod_associative': False\n",
    "              }\n",
    "    \n",
    "    if (((numb_1 + numb_2) + numb_3) == (numb_1 + (numb_2 + numb_3))):\n",
    "        answer['is_sum_associative'] = True\n",
    "\n",
    "    if (((numb_1 * numb_2)*numb_3) == (numb_1*(numb_2*numb_3))):\n",
    "        answer['is_prod_associative'] = True\n",
    "\n",
    "    return answer\n",
    "\n",
    "\n",
    "def distributive_test(numb_1:complex, numb_2:complex, numb_3:complex):\n",
    "    answer = {'is_distributive': False}\n",
    "\n",
    "    if((numb_1 * (numb_2 + numb_3))) == (numb_1 * numb_2 + numb_1 * numb_3):\n",
    "        answer['is_distributive'] = True\n",
    "\n",
    "    return answer\n",
    "\n",
    "\n",
    "print([\n",
    "    commut_test(complex(1, 4), complex(1, 2)), \n",
    "    associative_test(complex(1, 4), complex(1, 2), complex(3, 4)),\n",
    "    distributive_test(complex(1, 4), complex(1, 2), complex(3, 4))\n",
    "    ])"
   ]
  },
  {
   "cell_type": "markdown",
   "metadata": {},
   "source": [
    "### Q.6"
   ]
  },
  {
   "cell_type": "code",
   "execution_count": 21,
   "metadata": {},
   "outputs": [
    {
     "name": "stdout",
     "output_type": "stream",
     "text": [
      "[True, True]\n"
     ]
    }
   ],
   "source": [
    "def triang_inneq(numb_1:complex, numb_2:complex):\n",
    "    return ((abs(numb_1 + numb_2)) <= (abs(numb_1) + abs(numb_2)))\n",
    "\n",
    "\n",
    "def prod_equal(numb_1: complex, numb_2:complex):\n",
    "    return((abs(numb_2 * numb_1)) == (abs(numb_1) * abs(numb_2)))\n",
    "\n",
    "\n",
    "# Test\n",
    "print([prod_equal(complex(1,2), complex(1, 1)), prod_equal(complex(1,2), complex(1, 1))])\n"
   ]
  },
  {
   "cell_type": "markdown",
   "metadata": {},
   "source": [
    "### Q.7"
   ]
  },
  {
   "cell_type": "code",
   "execution_count": 7,
   "metadata": {},
   "outputs": [
    {
     "name": "stdout",
     "output_type": "stream",
     "text": [
      "[True, True]\n"
     ]
    }
   ],
   "source": [
    "def conjug_sum(numb_1:complex, numb_2:complex):\n",
    "    return ((numb_1.conjugate() + numb_2.conjugate()) == ((numb_2 + numb_1).conjugate()))\n",
    "\n",
    "\n",
    "def conjug_prod(numb_1:complex, numb_2:complex):\n",
    "    return ((numb_1.conjugate() * numb_2.conjugate()) == ((numb_1 * numb_2).conjugate()))\n",
    "\n",
    "# Test\n",
    "print([conjug_sum(complex(1, 2), complex(3, 4)), conjug_prod(complex(1, 2), complex(3, 4))])"
   ]
  },
  {
   "cell_type": "markdown",
   "metadata": {},
   "source": [
    "### Q.8"
   ]
  },
  {
   "cell_type": "code",
   "execution_count": 13,
   "metadata": {},
   "outputs": [
    {
     "name": "stdout",
     "output_type": "stream",
     "text": [
      "[(3+0j), (1-2j)]\n"
     ]
    }
   ],
   "source": [
    "print([complex(2, -1) + complex(1, 1), complex(2, -1) + complex(-1, -1)])"
   ]
  },
  {
   "cell_type": "markdown",
   "metadata": {},
   "source": [
    "### Q.9"
   ]
  },
  {
   "cell_type": "code",
   "execution_count": 12,
   "metadata": {},
   "outputs": [
    {
     "name": "stdout",
     "output_type": "stream",
     "text": [
      "[(3.0, 0.0), (2.23606797749979, -1.1071487177940904)]\n"
     ]
    }
   ],
   "source": [
    "# output: (modulus, phase)\n",
    "\n",
    "def calc_geo(numb_1:complex, numb_2:complex):\n",
    "    return cmath.polar(numb_1 + numb_2)\n",
    "\n",
    "\n",
    "print([calc_geo(complex(2, -1), complex(1, 1)), calc_geo(complex(2, -1), complex(-1, -1))])"
   ]
  },
  {
   "cell_type": "markdown",
   "metadata": {},
   "source": [
    "### Q.10"
   ]
  },
  {
   "cell_type": "code",
   "execution_count": 21,
   "metadata": {},
   "outputs": [
    {
     "data": {
      "text/plain": [
       "(2.23606797749979, 1.1071487177940904)"
      ]
     },
     "execution_count": 21,
     "metadata": {},
     "output_type": "execute_result"
    }
   ],
   "source": [
    "def polar_conv(numb_1:complex):\n",
    "    rho = np.sqrt((numb_1.real**2 + numb_1.imag**2))\n",
    "\n",
    "    if (numb_1.real == 0):\n",
    "        theta = np.pi * numb_1.imag / (2 * abs(numb_1.imag))\n",
    "    else:\n",
    "        theta = np.arctan(numb_1.imag / numb_1.real)\n",
    "\n",
    "    return (rho, theta)\n",
    "\n",
    "# Test\n",
    "polar_conv(complex(1, 2))"
   ]
  },
  {
   "cell_type": "markdown",
   "metadata": {},
   "source": [
    "### Q.11"
   ]
  },
  {
   "cell_type": "code",
   "execution_count": null,
   "metadata": {},
   "outputs": [],
   "source": [
    "\n",
    "#fig = go.Figure()\n",
    "\n",
    "#fig.add()"
   ]
  },
  {
   "cell_type": "markdown",
   "metadata": {},
   "source": [
    "### Q.14"
   ]
  },
  {
   "cell_type": "code",
   "execution_count": 28,
   "metadata": {},
   "outputs": [
    {
     "data": {
      "text/latex": [
       "$\\displaystyle \\frac{1}{x} = R(x)$"
      ],
      "text/plain": [
       "Eq(1/x, R(x))"
      ]
     },
     "execution_count": 28,
     "metadata": {},
     "output_type": "execute_result"
    }
   ],
   "source": [
    "def moebius_transf(a:complex, b:complex, c:complex, d:complex):\n",
    "    if ((a*d - c*b) == 0):\n",
    "        return(\"Condition not satisfied\")\n",
    "    \n",
    "    x = symbols('x')\n",
    "    R = symbols('R(x)')\n",
    "    \n",
    "    return (Eq((a*x + b)/(c*x + d), R))\n",
    "\n",
    "\n",
    "moebius_transf(0, 1, 1, 0)"
   ]
  }
 ],
 "metadata": {
  "kernelspec": {
   "display_name": "Python 3",
   "language": "python",
   "name": "python3"
  },
  "language_info": {
   "codemirror_mode": {
    "name": "ipython",
    "version": 3
   },
   "file_extension": ".py",
   "mimetype": "text/x-python",
   "name": "python",
   "nbconvert_exporter": "python",
   "pygments_lexer": "ipython3",
   "version": "3.12.2"
  }
 },
 "nbformat": 4,
 "nbformat_minor": 2
}
